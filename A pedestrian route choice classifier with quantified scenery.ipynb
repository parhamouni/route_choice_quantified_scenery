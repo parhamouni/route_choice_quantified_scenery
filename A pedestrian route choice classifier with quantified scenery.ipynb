{
 "cells": [
  {
   "cell_type": "code",
   "execution_count": 2,
   "metadata": {
    "collapsed": true
   },
   "outputs": [],
   "source": [
    "% matplotlib inline\n",
    "import psycopg2\n",
    "import pandas as pd\n",
    "import numpy as np\n",
    "from sklearn import linear_model\n",
    "from sklearn.model_selection import train_test_split\n",
    "\n",
    "from sklearn import preprocessing\n",
    "import numpy as np\n",
    "from sklearn.metrics import mean_squared_error\n",
    "from sklearn.ensemble import GradientBoostingClassifier\n",
    "from sklearn.linear_model import LogisticRegression\n",
    "from sklearn.naive_bayes import GaussianNB\n",
    "from sklearn.ensemble import RandomForestClassifier\n",
    "from sklearn.ensemble import VotingClassifier\n",
    "from sklearn.model_selection import cross_val_score\n",
    "from sklearn.neural_network import MLPClassifier\n",
    "from sklearn.neighbors import KNeighborsClassifier\n",
    "from sklearn.svm import SVC\n",
    "from sklearn.gaussian_process import GaussianProcessClassifier\n",
    "from sklearn.gaussian_process.kernels import RBF\n",
    "from sklearn.tree import DecisionTreeClassifier\n",
    "from sklearn.ensemble import RandomForestClassifier, AdaBoostClassifier\n",
    "from sklearn.naive_bayes import GaussianNB\n",
    "from sklearn.discriminant_analysis import QuadraticDiscriminantAnalysis\n",
    "import matplotlib.pyplot as plt\n",
    "from matplotlib.colors import ListedColormap\n",
    "from sklearn import random_projection\n",
    "from sklearn.ensemble import BaggingClassifier\n",
    "from sklearn.neighbors import KNeighborsClassifier\n",
    "import graphviz\n",
    "from sklearn.metrics import make_scorer\n",
    "from sklearn.metrics import accuracy_score,classification_report\n",
    "from sklearn.model_selection import RandomizedSearchCV\n",
    "from sklearn.model_selection import GridSearchCV\n",
    "from sklearn import tree\n",
    "from sklearn.feature_selection import SelectFromModel\n",
    "from sklearn.feature_selection import SelectKBest\n",
    "from sklearn.feature_selection import chi2\n",
    "from sklearn.feature_selection import mutual_info_classif\n",
    "\n",
    "import itertools"
   ]
  },
  {
   "cell_type": "markdown",
   "metadata": {},
   "source": [
    "## Data processing"
   ]
  },
  {
   "cell_type": "code",
   "execution_count": 126,
   "metadata": {
    "collapsed": true,
    "scrolled": true
   },
   "outputs": [],
   "source": [
    "df_scenery_coordinates = pd.read_pickle(r'C:/Users/parha/Google Drive/My projects/Thesis/Outputs/Discrete Choice Model/Data Prep/coordinates_choice_scenery.pkl')\n",
    "df_scenery_coordinates.slope = df_scenery_coordinates.slope.astype('float64')\n",
    "df_aggreagate = df_scenery_coordinates.groupby(by = ['trip_index'])\n",
    "df_scenery_coordinates_processed = df_scenery_coordinates[df_scenery_coordinates.trip_index.isin(df_wide.trip_index)]"
   ]
  },
  {
   "cell_type": "code",
   "execution_count": 3,
   "metadata": {},
   "outputs": [],
   "source": [
    "df_wide = pd.read_csv(r\"C:\\Users\\parha\\Google Drive\\My projects\\Thesis\\Outputs\\Discrete Choice Model\\Models\\Test and train\\17-6-2018\\df_wide_1.csv\")"
   ]
  },
  {
   "cell_type": "code",
   "execution_count": 5,
   "metadata": {
    "collapsed": true
   },
   "outputs": [],
   "source": [
    "df_wide_train=df_wide.sample(frac=0.85,random_state=200)\n",
    "df_wide_test= df_wide.drop(df_wide_train.index)\n",
    "df_wide_train.to_csv(r'C:\\Users\\parha\\Google Drive\\My projects\\Thesis\\Outputs\\Discrete Choice Model\\Models\\Test and train\\17-6-2018\\df_wide_train.csv')\n",
    "df_wide_test.to_csv(r'C:\\Users\\parha\\Google Drive\\My projects\\Thesis\\Outputs\\Discrete Choice Model\\Models\\Test and train\\17-6-2018\\df_wide_test.csv')"
   ]
  },
  {
   "cell_type": "code",
   "execution_count": 4,
   "metadata": {
    "collapsed": true
   },
   "outputs": [],
   "source": [
    "var_names = ['trip_index',\n",
    " 'trip_id',\n",
    " 'travel_mode_work',\n",
    " 'travel_mode_alt_work',\n",
    " 'sex',\n",
    " 'travel_mode_study',\n",
    " 'travel_mode_alt_study',\n",
    " 'age_45_54',\n",
    " 'age_35_44',\n",
    " 'age_25_34',\n",
    " 'age_16_24',\n",
    " 'age_55_64',\n",
    " 'age_65',\n",
    " 'purpose_education',\n",
    " 'purpose_health',\n",
    " 'purpose_other',\n",
    " 'purpose_meal_snack_coffee',\n",
    " 'purpose_leisure',\n",
    " 'purpose_pick_up',\n",
    " 'choice']\n",
    "col = list(df_wide.columns)\n",
    "new = []\n",
    "for name in col:\n",
    "    if name[-1].isdigit():\n",
    "        new.append(name[:-2])\n",
    "stubname = list(set(new[6:]))\n",
    "df_long = pd.wide_to_long(df_wide, i = var_names, j = 'alternative_no', stubnames = stubname,sep = '_')\n"
   ]
  },
  {
   "cell_type": "code",
   "execution_count": 5,
   "metadata": {
    "collapsed": true
   },
   "outputs": [],
   "source": [
    "df_long.reset_index(inplace=True)"
   ]
  },
  {
   "cell_type": "code",
   "execution_count": 6,
   "metadata": {
    "collapsed": true
   },
   "outputs": [],
   "source": [
    "df_long.alternative_no = df_long.alternative_no.astype(int)\n",
    "df_long.at[df_long.choice == df_long.alternative_no,'action' ]= 1\n",
    "df_long.action.fillna(value= 0 ,inplace= True)\n",
    "df = df_long[df_long.columns.difference(['polyline','uuid'])]\n",
    "df = df.astype(float)\n",
    "# df.drop(columns=(df.filter(like = 'ps').columns),inplace=True) # omitting PS factor\n",
    "# df.drop(columns=(df.filter(like = 'ps').columns),inplace=True) # droping av labels, all of them equal 1\n",
    "df.drop(columns=(df.filter(like = 'id').columns),inplace=True) # droping trip_id and id\n",
    "df.drop(columns =['choice','overlap_percentage'],inplace=True)\n",
    "df.drop(columns=['av1','av2','av3'],inplace=True)\n",
    "df.dropna(axis = 1,inplace=True)\n"
   ]
  },
  {
   "cell_type": "code",
   "execution_count": 9,
   "metadata": {
    "collapsed": true
   },
   "outputs": [],
   "source": [
    "df_y = df[['trip_index','action']]\n",
    "df_x = df.drop(columns= ['action'])\n",
    "df_x.reset_index(inplace=True)\n",
    "df_x = df_x.astype('float')\n",
    "\n",
    "y = df_y\n",
    "X = df_x.drop(columns='level_0')\n",
    "X.set_index( 'trip_index', inplace = True)\n",
    "# X = np.array(df_x)\n",
    "X_normalized = preprocessing.scale(X)\n",
    "# X_train, X_test, y_train, y_test = train_test_split(X, y, test_size=0.2, random_state=42)"
   ]
  },
  {
   "cell_type": "code",
   "execution_count": 10,
   "metadata": {
    "collapsed": true
   },
   "outputs": [],
   "source": [
    "y_train = df_y.loc[df_y.trip_index.isin(df_wide_train.trip_index)]\n",
    "y_test = df_y.loc[df_y.trip_index.isin(df_wide_test.trip_index)]\n",
    "\n",
    "y_train.set_index('trip_index', inplace = True)\n",
    "y_test.set_index('trip_index', inplace = True)\n",
    "\n",
    "X_train = df_x[df_x.trip_index.isin(df_wide_train.trip_index)]\n",
    "X_test = df_x[df_x.trip_index.isin(df_wide_test.trip_index)]\n",
    "\n",
    "X_train = X_train.drop(columns='level_0')\n",
    "X_test = X_test.drop(columns='level_0')\n",
    "\n",
    "X_train.set_index('trip_index', inplace = True)\n",
    "X_test.set_index('trip_index', inplace = True)\n",
    "\n",
    "\n",
    "\n"
   ]
  },
  {
   "cell_type": "markdown",
   "metadata": {},
   "source": [
    "## Models\n",
    "Data is prepeared.\n",
    "\n",
    "It is called X,y, X_train and y_train.\n",
    "\n",
    "Now we are building machine learning models."
   ]
  },
  {
   "cell_type": "markdown",
   "metadata": {},
   "source": [
    "## Classifiers\n",
    "\n",
    "* Nearest Neighbors\n",
    "* Linear SVM  \n",
    "* RBF SVM \n",
    "* Gaussian Process\n",
    "* Decision Tree \n",
    "* Random Forest  \n",
    "* Neural Net \n",
    "* AdaBoost\n",
    "* Naive Bayes \n",
    "* QDA\n",
    "* 'GradientBoostingClassifier'\n",
    "\n",
    "Additionally, Ensemble method has been investigated. Finally, the best models were selected.\n",
    "First, we have fed the model the training sets with cross fold validation, then have selected the best models and performed the scoring by test set."
   ]
  },
  {
   "cell_type": "markdown",
   "metadata": {},
   "source": [
    "### Comparing with discrete choice modeling "
   ]
  },
  {
   "cell_type": "code",
   "execution_count": 12,
   "metadata": {
    "collapsed": true
   },
   "outputs": [],
   "source": [
    "X_new_train= X_train[['distance','number_of_turns', 'var_scenic_index','sum_tags_food','ps3']]\n",
    "X_new_test = X_test[['distance','number_of_turns', 'var_scenic_index','sum_tags_food','ps3']]"
   ]
  },
  {
   "cell_type": "markdown",
   "metadata": {},
   "source": [
    "The test and train set were subsetted by the features that werer made in discrte choice model`"
   ]
  },
  {
   "cell_type": "markdown",
   "metadata": {},
   "source": [
    "### Decision Tree and Discrete choice"
   ]
  },
  {
   "cell_type": "code",
   "execution_count": 13,
   "metadata": {
    "collapsed": true
   },
   "outputs": [],
   "source": [
    "### SVM was not used due to time consuming  results"
   ]
  },
  {
   "cell_type": "code",
   "execution_count": 14,
   "metadata": {},
   "outputs": [
    {
     "name": "stdout",
     "output_type": "stream",
     "text": [
      "Best parameters set found on development set:\n",
      "\n",
      "{'min_samples_split': 370, 'max_depth': 3}\n",
      "\n",
      "Grid scores on development set:\n",
      "\n",
      "0.667 (+/-0.000) for {'min_samples_split': 430, 'max_depth': 7}\n",
      "0.722 (+/-0.099) for {'min_samples_split': 70, 'max_depth': 19}\n",
      "0.722 (+/-0.080) for {'min_samples_split': 190, 'max_depth': 3}\n",
      "0.739 (+/-0.041) for {'min_samples_split': 370, 'max_depth': 3}\n",
      "0.722 (+/-0.086) for {'min_samples_split': 90, 'max_depth': 17}\n",
      "0.722 (+/-0.080) for {'min_samples_split': 210, 'max_depth': 11}\n",
      "0.737 (+/-0.038) for {'min_samples_split': 290, 'max_depth': 19}\n",
      "0.739 (+/-0.041) for {'min_samples_split': 350, 'max_depth': 15}\n",
      "0.724 (+/-0.088) for {'min_samples_split': 50, 'max_depth': 11}\n",
      "0.721 (+/-0.077) for {'min_samples_split': 170, 'max_depth': 9}\n",
      "\n",
      "Detailed classification report:\n",
      "\n",
      "The model is trained on the full development set.\n",
      "The scores are computed on the full evaluation set.\n",
      "\n",
      "             precision    recall  f1-score   support\n",
      "\n",
      "        0.0       0.72      0.96      0.82        72\n",
      "        1.0       0.75      0.25      0.38        36\n",
      "\n",
      "avg / total       0.73      0.72      0.67       108\n",
      "\n",
      "0.722222222222\n",
      "\n"
     ]
    }
   ],
   "source": [
    "n_estimators = [int(x) for x in np.linspace(start = 3, stop = 300, num = 10)]\n",
    "# Number of features to consider at every split\n",
    "max_features = ['auto', 'sqrt']\n",
    "# Maximum number of levels in tree\n",
    "max_depth = [int(x) for x in np.linspace(10, 110, num = 11)]\n",
    "max_depth.append(None)\n",
    "# Minimum number of samples required to split a node\n",
    "min_samples_split = [2, 5, 10]\n",
    "# Minimum number of samples required at each leaf node\n",
    "min_samples_leaf = [1, 2, 4]\n",
    "# Method of selecting samples for training each tree\n",
    "bootstrap = [True, False]\n",
    "# Create the random grid\n",
    "parameters={'min_samples_split' : range(10,500,20),'max_depth': range(1,20,2)} \n",
    "# tuned_parameters = {'n_estimators': range(10,20),'criterion': ['gini','entropy'], 'min_samples_split' : [2,5]}\n",
    "clf = RandomizedSearchCV(DecisionTreeClassifier(),parameters,cv=3)\n",
    "clf.fit(X_new_train, y_train)\n",
    "print(\"Best parameters set found on development set:\")\n",
    "print()\n",
    "print(clf.best_params_)\n",
    "print()\n",
    "print(\"Grid scores on development set:\")\n",
    "print()\n",
    "means = clf.cv_results_['mean_test_score']\n",
    "stds = clf.cv_results_['std_test_score']\n",
    "for mean, std, params in zip(means, stds, clf.cv_results_['params']):\n",
    "    print(\"%0.3f (+/-%0.03f) for %r\"\n",
    "          % (mean, std * 2, params))\n",
    "print()\n",
    "\n",
    "print(\"Detailed classification report:\")\n",
    "print()\n",
    "print(\"The model is trained on the full development set.\")\n",
    "print(\"The scores are computed on the full evaluation set.\")\n",
    "print()\n",
    "y_true, y_pred = y_test, clf.predict(X_new_test)\n",
    "print(classification_report(y_true, y_pred))\n",
    "print(accuracy_score(y_true, y_pred))\n",
    "\n",
    "print()"
   ]
  },
  {
   "cell_type": "markdown",
   "metadata": {},
   "source": [
    "### Radnom Forest and Discrete choice Comparison"
   ]
  },
  {
   "cell_type": "code",
   "execution_count": 299,
   "metadata": {},
   "outputs": [
    {
     "name": "stderr",
     "output_type": "stream",
     "text": [
      "C:\\Users\\parha\\Anaconda3\\lib\\site-packages\\sklearn\\model_selection\\_validation.py:458: DataConversionWarning: A column-vector y was passed when a 1d array was expected. Please change the shape of y to (n_samples,), for example using ravel().\n",
      "  estimator.fit(X_train, y_train, **fit_params)\n",
      "C:\\Users\\parha\\Anaconda3\\lib\\site-packages\\sklearn\\model_selection\\_validation.py:458: DataConversionWarning: A column-vector y was passed when a 1d array was expected. Please change the shape of y to (n_samples,), for example using ravel().\n",
      "  estimator.fit(X_train, y_train, **fit_params)\n",
      "C:\\Users\\parha\\Anaconda3\\lib\\site-packages\\sklearn\\model_selection\\_validation.py:458: DataConversionWarning: A column-vector y was passed when a 1d array was expected. Please change the shape of y to (n_samples,), for example using ravel().\n",
      "  estimator.fit(X_train, y_train, **fit_params)\n",
      "C:\\Users\\parha\\Anaconda3\\lib\\site-packages\\sklearn\\model_selection\\_validation.py:458: DataConversionWarning: A column-vector y was passed when a 1d array was expected. Please change the shape of y to (n_samples,), for example using ravel().\n",
      "  estimator.fit(X_train, y_train, **fit_params)\n",
      "C:\\Users\\parha\\Anaconda3\\lib\\site-packages\\sklearn\\model_selection\\_validation.py:458: DataConversionWarning: A column-vector y was passed when a 1d array was expected. Please change the shape of y to (n_samples,), for example using ravel().\n",
      "  estimator.fit(X_train, y_train, **fit_params)\n",
      "C:\\Users\\parha\\Anaconda3\\lib\\site-packages\\sklearn\\model_selection\\_validation.py:458: DataConversionWarning: A column-vector y was passed when a 1d array was expected. Please change the shape of y to (n_samples,), for example using ravel().\n",
      "  estimator.fit(X_train, y_train, **fit_params)\n",
      "C:\\Users\\parha\\Anaconda3\\lib\\site-packages\\sklearn\\model_selection\\_validation.py:458: DataConversionWarning: A column-vector y was passed when a 1d array was expected. Please change the shape of y to (n_samples,), for example using ravel().\n",
      "  estimator.fit(X_train, y_train, **fit_params)\n",
      "C:\\Users\\parha\\Anaconda3\\lib\\site-packages\\sklearn\\model_selection\\_validation.py:458: DataConversionWarning: A column-vector y was passed when a 1d array was expected. Please change the shape of y to (n_samples,), for example using ravel().\n",
      "  estimator.fit(X_train, y_train, **fit_params)\n",
      "C:\\Users\\parha\\Anaconda3\\lib\\site-packages\\sklearn\\model_selection\\_validation.py:458: DataConversionWarning: A column-vector y was passed when a 1d array was expected. Please change the shape of y to (n_samples,), for example using ravel().\n",
      "  estimator.fit(X_train, y_train, **fit_params)\n",
      "C:\\Users\\parha\\Anaconda3\\lib\\site-packages\\sklearn\\model_selection\\_validation.py:458: DataConversionWarning: A column-vector y was passed when a 1d array was expected. Please change the shape of y to (n_samples,), for example using ravel().\n",
      "  estimator.fit(X_train, y_train, **fit_params)\n",
      "C:\\Users\\parha\\Anaconda3\\lib\\site-packages\\sklearn\\model_selection\\_validation.py:458: DataConversionWarning: A column-vector y was passed when a 1d array was expected. Please change the shape of y to (n_samples,), for example using ravel().\n",
      "  estimator.fit(X_train, y_train, **fit_params)\n",
      "C:\\Users\\parha\\Anaconda3\\lib\\site-packages\\sklearn\\model_selection\\_validation.py:458: DataConversionWarning: A column-vector y was passed when a 1d array was expected. Please change the shape of y to (n_samples,), for example using ravel().\n",
      "  estimator.fit(X_train, y_train, **fit_params)\n",
      "C:\\Users\\parha\\Anaconda3\\lib\\site-packages\\sklearn\\model_selection\\_validation.py:458: DataConversionWarning: A column-vector y was passed when a 1d array was expected. Please change the shape of y to (n_samples,), for example using ravel().\n",
      "  estimator.fit(X_train, y_train, **fit_params)\n",
      "C:\\Users\\parha\\Anaconda3\\lib\\site-packages\\sklearn\\model_selection\\_validation.py:458: DataConversionWarning: A column-vector y was passed when a 1d array was expected. Please change the shape of y to (n_samples,), for example using ravel().\n",
      "  estimator.fit(X_train, y_train, **fit_params)\n",
      "C:\\Users\\parha\\Anaconda3\\lib\\site-packages\\sklearn\\model_selection\\_validation.py:458: DataConversionWarning: A column-vector y was passed when a 1d array was expected. Please change the shape of y to (n_samples,), for example using ravel().\n",
      "  estimator.fit(X_train, y_train, **fit_params)\n",
      "C:\\Users\\parha\\Anaconda3\\lib\\site-packages\\sklearn\\model_selection\\_validation.py:458: DataConversionWarning: A column-vector y was passed when a 1d array was expected. Please change the shape of y to (n_samples,), for example using ravel().\n",
      "  estimator.fit(X_train, y_train, **fit_params)\n",
      "C:\\Users\\parha\\Anaconda3\\lib\\site-packages\\sklearn\\model_selection\\_validation.py:458: DataConversionWarning: A column-vector y was passed when a 1d array was expected. Please change the shape of y to (n_samples,), for example using ravel().\n",
      "  estimator.fit(X_train, y_train, **fit_params)\n",
      "C:\\Users\\parha\\Anaconda3\\lib\\site-packages\\sklearn\\model_selection\\_validation.py:458: DataConversionWarning: A column-vector y was passed when a 1d array was expected. Please change the shape of y to (n_samples,), for example using ravel().\n",
      "  estimator.fit(X_train, y_train, **fit_params)\n",
      "C:\\Users\\parha\\Anaconda3\\lib\\site-packages\\sklearn\\model_selection\\_validation.py:458: DataConversionWarning: A column-vector y was passed when a 1d array was expected. Please change the shape of y to (n_samples,), for example using ravel().\n",
      "  estimator.fit(X_train, y_train, **fit_params)\n",
      "C:\\Users\\parha\\Anaconda3\\lib\\site-packages\\sklearn\\model_selection\\_validation.py:458: DataConversionWarning: A column-vector y was passed when a 1d array was expected. Please change the shape of y to (n_samples,), for example using ravel().\n",
      "  estimator.fit(X_train, y_train, **fit_params)\n",
      "C:\\Users\\parha\\Anaconda3\\lib\\site-packages\\sklearn\\model_selection\\_validation.py:458: DataConversionWarning: A column-vector y was passed when a 1d array was expected. Please change the shape of y to (n_samples,), for example using ravel().\n",
      "  estimator.fit(X_train, y_train, **fit_params)\n",
      "C:\\Users\\parha\\Anaconda3\\lib\\site-packages\\sklearn\\model_selection\\_validation.py:458: DataConversionWarning: A column-vector y was passed when a 1d array was expected. Please change the shape of y to (n_samples,), for example using ravel().\n",
      "  estimator.fit(X_train, y_train, **fit_params)\n",
      "C:\\Users\\parha\\Anaconda3\\lib\\site-packages\\sklearn\\model_selection\\_validation.py:458: DataConversionWarning: A column-vector y was passed when a 1d array was expected. Please change the shape of y to (n_samples,), for example using ravel().\n",
      "  estimator.fit(X_train, y_train, **fit_params)\n",
      "C:\\Users\\parha\\Anaconda3\\lib\\site-packages\\sklearn\\model_selection\\_validation.py:458: DataConversionWarning: A column-vector y was passed when a 1d array was expected. Please change the shape of y to (n_samples,), for example using ravel().\n",
      "  estimator.fit(X_train, y_train, **fit_params)\n",
      "C:\\Users\\parha\\Anaconda3\\lib\\site-packages\\sklearn\\model_selection\\_validation.py:458: DataConversionWarning: A column-vector y was passed when a 1d array was expected. Please change the shape of y to (n_samples,), for example using ravel().\n",
      "  estimator.fit(X_train, y_train, **fit_params)\n",
      "C:\\Users\\parha\\Anaconda3\\lib\\site-packages\\sklearn\\model_selection\\_validation.py:458: DataConversionWarning: A column-vector y was passed when a 1d array was expected. Please change the shape of y to (n_samples,), for example using ravel().\n",
      "  estimator.fit(X_train, y_train, **fit_params)\n",
      "C:\\Users\\parha\\Anaconda3\\lib\\site-packages\\sklearn\\model_selection\\_validation.py:458: DataConversionWarning: A column-vector y was passed when a 1d array was expected. Please change the shape of y to (n_samples,), for example using ravel().\n",
      "  estimator.fit(X_train, y_train, **fit_params)\n",
      "C:\\Users\\parha\\Anaconda3\\lib\\site-packages\\sklearn\\model_selection\\_validation.py:458: DataConversionWarning: A column-vector y was passed when a 1d array was expected. Please change the shape of y to (n_samples,), for example using ravel().\n",
      "  estimator.fit(X_train, y_train, **fit_params)\n",
      "C:\\Users\\parha\\Anaconda3\\lib\\site-packages\\sklearn\\model_selection\\_validation.py:458: DataConversionWarning: A column-vector y was passed when a 1d array was expected. Please change the shape of y to (n_samples,), for example using ravel().\n",
      "  estimator.fit(X_train, y_train, **fit_params)\n",
      "C:\\Users\\parha\\Anaconda3\\lib\\site-packages\\sklearn\\model_selection\\_validation.py:458: DataConversionWarning: A column-vector y was passed when a 1d array was expected. Please change the shape of y to (n_samples,), for example using ravel().\n",
      "  estimator.fit(X_train, y_train, **fit_params)\n"
     ]
    },
    {
     "name": "stderr",
     "output_type": "stream",
     "text": [
      "C:\\Users\\parha\\Anaconda3\\lib\\site-packages\\sklearn\\model_selection\\_search.py:739: DataConversionWarning: A column-vector y was passed when a 1d array was expected. Please change the shape of y to (n_samples,), for example using ravel().\n",
      "  self.best_estimator_.fit(X, y, **fit_params)\n"
     ]
    },
    {
     "name": "stdout",
     "output_type": "stream",
     "text": [
      "Best parameters set found on development set:\n",
      "\n",
      "{'n_estimators': 400, 'min_samples_split': 2, 'min_samples_leaf': 2, 'max_features': 'sqrt', 'max_depth': 3, 'bootstrap': True}\n",
      "\n",
      "Grid scores on development set:\n",
      "\n",
      "0.727 (+/-0.037) for {'n_estimators': 10, 'min_samples_split': 2, 'min_samples_leaf': 2, 'max_features': 'sqrt', 'max_depth': 40, 'bootstrap': False}\n",
      "0.729 (+/-0.047) for {'n_estimators': 10, 'min_samples_split': 5, 'min_samples_leaf': 4, 'max_features': 'auto', 'max_depth': 60, 'bootstrap': True}\n",
      "0.734 (+/-0.049) for {'n_estimators': 600, 'min_samples_split': 100, 'min_samples_leaf': 4, 'max_features': 'auto', 'max_depth': 60, 'bootstrap': False}\n",
      "0.757 (+/-0.024) for {'n_estimators': 400, 'min_samples_split': 2, 'min_samples_leaf': 2, 'max_features': 'sqrt', 'max_depth': 3, 'bootstrap': True}\n",
      "0.727 (+/-0.046) for {'n_estimators': 800, 'min_samples_split': 10, 'min_samples_leaf': 4, 'max_features': 'sqrt', 'max_depth': None, 'bootstrap': False}\n",
      "0.734 (+/-0.061) for {'n_estimators': 600, 'min_samples_split': 10, 'min_samples_leaf': 1, 'max_features': 'sqrt', 'max_depth': 60, 'bootstrap': False}\n",
      "0.729 (+/-0.060) for {'n_estimators': 50, 'min_samples_split': 5, 'min_samples_leaf': 4, 'max_features': 'auto', 'max_depth': 100, 'bootstrap': True}\n",
      "0.732 (+/-0.052) for {'n_estimators': 50, 'min_samples_split': 5, 'min_samples_leaf': 2, 'max_features': 'auto', 'max_depth': 90, 'bootstrap': True}\n",
      "0.729 (+/-0.067) for {'n_estimators': 20, 'min_samples_split': 10, 'min_samples_leaf': 4, 'max_features': 'sqrt', 'max_depth': 100, 'bootstrap': False}\n",
      "0.739 (+/-0.046) for {'n_estimators': 200, 'min_samples_split': 100, 'min_samples_leaf': 1, 'max_features': 'sqrt', 'max_depth': 20, 'bootstrap': True}\n",
      "\n",
      "Detailed classification report:\n",
      "\n",
      "The model is trained on the full development set.\n",
      "The scores are computed on the full evaluation set.\n",
      "\n",
      "             precision    recall  f1-score   support\n",
      "\n",
      "        0.0       0.74      0.94      0.83        72\n",
      "        1.0       0.75      0.33      0.46        36\n",
      "\n",
      "avg / total       0.74      0.74      0.71       108\n",
      "\n",
      "0.740740740741\n",
      "\n"
     ]
    }
   ],
   "source": [
    "## Random Forest modification\n",
    "# Number of trees in random forest\n",
    "n_estimators = [int(x) for x in np.linspace(start = 3, stop = 300, num = 10)]\n",
    "# Number of features to consider at every split\n",
    "max_features = ['auto', 'sqrt']\n",
    "# Maximum number of levels in tree\n",
    "max_depth = [int(x) for x in np.linspace(1, 110,10)]\n",
    "\n",
    "max_depth.extend([5, 10,None,90])\n",
    "# Minimum number of samples required to split a node\n",
    "min_samples_split = [2, 5, 10, 90,230]\n",
    "# Minimum number of samples required at each leaf node\n",
    "min_samples_leaf = [1, 2, 4]\n",
    "# Method of selecting samples for training each tree\n",
    "bootstrap = [True, False]\n",
    "# Create the random grid\n",
    "random_grid = {'bootstrap': [True, False],\n",
    " 'max_depth': [3,5,10, 20, 30, 40, 50, 60, 70, 80, 90, 100, None],\n",
    " 'max_features': ['auto', 'sqrt'],\n",
    " 'min_samples_leaf': [1, 2, 4],\n",
    " 'min_samples_split': [2, 5, 10,100,200],\n",
    " 'n_estimators': [10,20,50,100,200, 400,600,800,1000]}\n",
    "# # random_grid = {'n_estimators': n_estimators,\n",
    "#                'max_features': max_features,\n",
    "#                'max_depth': max_depth,\n",
    "#                'min_samples_split': min_samples_split,\n",
    "#                'min_samples_leaf': min_samples_leaf,\n",
    "#                'bootstrap': bootstrap}\n",
    "# tuned_parameters = {'n_estimators': range(10,20),'criterion': ['gini','entropy'], 'min_samples_split' : [2,5]}\n",
    "\n",
    "clf = RandomizedSearchCV(RandomForestClassifier(),random_grid,cv=3)\n",
    "clf.fit(X_new_train, y_train)\n",
    "print(\"Best parameters set found on development set:\")\n",
    "print()\n",
    "print(clf.best_params_)\n",
    "print()\n",
    "print(\"Grid scores on development set:\")\n",
    "print()\n",
    "means = clf.cv_results_['mean_test_score']\n",
    "stds = clf.cv_results_['std_test_score']\n",
    "for mean, std, params in zip(means, stds, clf.cv_results_['params']):\n",
    "    print(\"%0.3f (+/-%0.03f) for %r\"\n",
    "          % (mean, std * 2, params))\n",
    "print()\n",
    "\n",
    "print(\"Detailed classification report:\")\n",
    "print()\n",
    "print(\"The model is trained on the full development set.\")\n",
    "print(\"The scores are computed on the full evaluation set.\")\n",
    "print()\n",
    "y_true, y_pred = y_test, clf.predict(X_new_test)\n",
    "print(classification_report(y_true, y_pred))\n",
    "print(accuracy_score(y_true, y_pred))\n",
    "\n",
    "print()"
   ]
  },
  {
   "cell_type": "code",
   "execution_count": 303,
   "metadata": {
    "collapsed": true
   },
   "outputs": [],
   "source": [
    "### Gradient Boosting  and Discrete choice Comparison"
   ]
  },
  {
   "cell_type": "code",
   "execution_count": 90,
   "metadata": {},
   "outputs": [
    {
     "name": "stderr",
     "output_type": "stream",
     "text": [
      "C:\\Users\\parha\\Anaconda3\\lib\\site-packages\\sklearn\\utils\\validation.py:578: DataConversionWarning: A column-vector y was passed when a 1d array was expected. Please change the shape of y to (n_samples, ), for example using ravel().\n",
      "  y = column_or_1d(y, warn=True)\n",
      "C:\\Users\\parha\\Anaconda3\\lib\\site-packages\\sklearn\\utils\\validation.py:578: DataConversionWarning: A column-vector y was passed when a 1d array was expected. Please change the shape of y to (n_samples, ), for example using ravel().\n",
      "  y = column_or_1d(y, warn=True)\n",
      "C:\\Users\\parha\\Anaconda3\\lib\\site-packages\\sklearn\\utils\\validation.py:578: DataConversionWarning: A column-vector y was passed when a 1d array was expected. Please change the shape of y to (n_samples, ), for example using ravel().\n",
      "  y = column_or_1d(y, warn=True)\n",
      "C:\\Users\\parha\\Anaconda3\\lib\\site-packages\\sklearn\\utils\\validation.py:578: DataConversionWarning: A column-vector y was passed when a 1d array was expected. Please change the shape of y to (n_samples, ), for example using ravel().\n",
      "  y = column_or_1d(y, warn=True)\n",
      "C:\\Users\\parha\\Anaconda3\\lib\\site-packages\\sklearn\\utils\\validation.py:578: DataConversionWarning: A column-vector y was passed when a 1d array was expected. Please change the shape of y to (n_samples, ), for example using ravel().\n",
      "  y = column_or_1d(y, warn=True)\n",
      "C:\\Users\\parha\\Anaconda3\\lib\\site-packages\\sklearn\\utils\\validation.py:578: DataConversionWarning: A column-vector y was passed when a 1d array was expected. Please change the shape of y to (n_samples, ), for example using ravel().\n",
      "  y = column_or_1d(y, warn=True)\n",
      "C:\\Users\\parha\\Anaconda3\\lib\\site-packages\\sklearn\\utils\\validation.py:578: DataConversionWarning: A column-vector y was passed when a 1d array was expected. Please change the shape of y to (n_samples, ), for example using ravel().\n",
      "  y = column_or_1d(y, warn=True)\n",
      "C:\\Users\\parha\\Anaconda3\\lib\\site-packages\\sklearn\\utils\\validation.py:578: DataConversionWarning: A column-vector y was passed when a 1d array was expected. Please change the shape of y to (n_samples, ), for example using ravel().\n",
      "  y = column_or_1d(y, warn=True)\n",
      "C:\\Users\\parha\\Anaconda3\\lib\\site-packages\\sklearn\\utils\\validation.py:578: DataConversionWarning: A column-vector y was passed when a 1d array was expected. Please change the shape of y to (n_samples, ), for example using ravel().\n",
      "  y = column_or_1d(y, warn=True)\n",
      "C:\\Users\\parha\\Anaconda3\\lib\\site-packages\\sklearn\\utils\\validation.py:578: DataConversionWarning: A column-vector y was passed when a 1d array was expected. Please change the shape of y to (n_samples, ), for example using ravel().\n",
      "  y = column_or_1d(y, warn=True)\n",
      "C:\\Users\\parha\\Anaconda3\\lib\\site-packages\\sklearn\\utils\\validation.py:578: DataConversionWarning: A column-vector y was passed when a 1d array was expected. Please change the shape of y to (n_samples, ), for example using ravel().\n",
      "  y = column_or_1d(y, warn=True)\n",
      "C:\\Users\\parha\\Anaconda3\\lib\\site-packages\\sklearn\\utils\\validation.py:578: DataConversionWarning: A column-vector y was passed when a 1d array was expected. Please change the shape of y to (n_samples, ), for example using ravel().\n",
      "  y = column_or_1d(y, warn=True)\n",
      "C:\\Users\\parha\\Anaconda3\\lib\\site-packages\\sklearn\\utils\\validation.py:578: DataConversionWarning: A column-vector y was passed when a 1d array was expected. Please change the shape of y to (n_samples, ), for example using ravel().\n",
      "  y = column_or_1d(y, warn=True)\n",
      "C:\\Users\\parha\\Anaconda3\\lib\\site-packages\\sklearn\\utils\\validation.py:578: DataConversionWarning: A column-vector y was passed when a 1d array was expected. Please change the shape of y to (n_samples, ), for example using ravel().\n",
      "  y = column_or_1d(y, warn=True)\n",
      "C:\\Users\\parha\\Anaconda3\\lib\\site-packages\\sklearn\\utils\\validation.py:578: DataConversionWarning: A column-vector y was passed when a 1d array was expected. Please change the shape of y to (n_samples, ), for example using ravel().\n",
      "  y = column_or_1d(y, warn=True)\n",
      "C:\\Users\\parha\\Anaconda3\\lib\\site-packages\\sklearn\\utils\\validation.py:578: DataConversionWarning: A column-vector y was passed when a 1d array was expected. Please change the shape of y to (n_samples, ), for example using ravel().\n",
      "  y = column_or_1d(y, warn=True)\n",
      "C:\\Users\\parha\\Anaconda3\\lib\\site-packages\\sklearn\\utils\\validation.py:578: DataConversionWarning: A column-vector y was passed when a 1d array was expected. Please change the shape of y to (n_samples, ), for example using ravel().\n",
      "  y = column_or_1d(y, warn=True)\n",
      "C:\\Users\\parha\\Anaconda3\\lib\\site-packages\\sklearn\\utils\\validation.py:578: DataConversionWarning: A column-vector y was passed when a 1d array was expected. Please change the shape of y to (n_samples, ), for example using ravel().\n",
      "  y = column_or_1d(y, warn=True)\n",
      "C:\\Users\\parha\\Anaconda3\\lib\\site-packages\\sklearn\\utils\\validation.py:578: DataConversionWarning: A column-vector y was passed when a 1d array was expected. Please change the shape of y to (n_samples, ), for example using ravel().\n",
      "  y = column_or_1d(y, warn=True)\n",
      "C:\\Users\\parha\\Anaconda3\\lib\\site-packages\\sklearn\\utils\\validation.py:578: DataConversionWarning: A column-vector y was passed when a 1d array was expected. Please change the shape of y to (n_samples, ), for example using ravel().\n",
      "  y = column_or_1d(y, warn=True)\n",
      "C:\\Users\\parha\\Anaconda3\\lib\\site-packages\\sklearn\\utils\\validation.py:578: DataConversionWarning: A column-vector y was passed when a 1d array was expected. Please change the shape of y to (n_samples, ), for example using ravel().\n",
      "  y = column_or_1d(y, warn=True)\n",
      "C:\\Users\\parha\\Anaconda3\\lib\\site-packages\\sklearn\\utils\\validation.py:578: DataConversionWarning: A column-vector y was passed when a 1d array was expected. Please change the shape of y to (n_samples, ), for example using ravel().\n",
      "  y = column_or_1d(y, warn=True)\n",
      "C:\\Users\\parha\\Anaconda3\\lib\\site-packages\\sklearn\\utils\\validation.py:578: DataConversionWarning: A column-vector y was passed when a 1d array was expected. Please change the shape of y to (n_samples, ), for example using ravel().\n",
      "  y = column_or_1d(y, warn=True)\n",
      "C:\\Users\\parha\\Anaconda3\\lib\\site-packages\\sklearn\\utils\\validation.py:578: DataConversionWarning: A column-vector y was passed when a 1d array was expected. Please change the shape of y to (n_samples, ), for example using ravel().\n",
      "  y = column_or_1d(y, warn=True)\n",
      "C:\\Users\\parha\\Anaconda3\\lib\\site-packages\\sklearn\\utils\\validation.py:578: DataConversionWarning: A column-vector y was passed when a 1d array was expected. Please change the shape of y to (n_samples, ), for example using ravel().\n",
      "  y = column_or_1d(y, warn=True)\n",
      "C:\\Users\\parha\\Anaconda3\\lib\\site-packages\\sklearn\\utils\\validation.py:578: DataConversionWarning: A column-vector y was passed when a 1d array was expected. Please change the shape of y to (n_samples, ), for example using ravel().\n",
      "  y = column_or_1d(y, warn=True)\n",
      "C:\\Users\\parha\\Anaconda3\\lib\\site-packages\\sklearn\\utils\\validation.py:578: DataConversionWarning: A column-vector y was passed when a 1d array was expected. Please change the shape of y to (n_samples, ), for example using ravel().\n",
      "  y = column_or_1d(y, warn=True)\n",
      "C:\\Users\\parha\\Anaconda3\\lib\\site-packages\\sklearn\\utils\\validation.py:578: DataConversionWarning: A column-vector y was passed when a 1d array was expected. Please change the shape of y to (n_samples, ), for example using ravel().\n",
      "  y = column_or_1d(y, warn=True)\n",
      "C:\\Users\\parha\\Anaconda3\\lib\\site-packages\\sklearn\\utils\\validation.py:578: DataConversionWarning: A column-vector y was passed when a 1d array was expected. Please change the shape of y to (n_samples, ), for example using ravel().\n",
      "  y = column_or_1d(y, warn=True)\n",
      "C:\\Users\\parha\\Anaconda3\\lib\\site-packages\\sklearn\\utils\\validation.py:578: DataConversionWarning: A column-vector y was passed when a 1d array was expected. Please change the shape of y to (n_samples, ), for example using ravel().\n",
      "  y = column_or_1d(y, warn=True)\n",
      "C:\\Users\\parha\\Anaconda3\\lib\\site-packages\\sklearn\\utils\\validation.py:578: DataConversionWarning: A column-vector y was passed when a 1d array was expected. Please change the shape of y to (n_samples, ), for example using ravel().\n",
      "  y = column_or_1d(y, warn=True)\n"
     ]
    },
    {
     "name": "stdout",
     "output_type": "stream",
     "text": [
      "Best parameters set found on development set:\n",
      "\n",
      "{'n_estimators': 600, 'min_samples_split': 5, 'min_samples_leaf': 1, 'max_features': 'sqrt', 'max_depth': 90}\n",
      "\n",
      "Grid scores on development set:\n",
      "\n",
      "0.690 (+/-0.032) for {'n_estimators': 400, 'min_samples_split': 5, 'min_samples_leaf': 4, 'max_features': 'auto', 'max_depth': 20}\n",
      "0.725 (+/-0.035) for {'n_estimators': 600, 'min_samples_split': 5, 'min_samples_leaf': 1, 'max_features': 'sqrt', 'max_depth': 90}\n",
      "0.655 (+/-0.012) for {'n_estimators': 400, 'min_samples_split': 2, 'min_samples_leaf': 1, 'max_features': 'auto', 'max_depth': 20}\n",
      "0.701 (+/-0.035) for {'n_estimators': 1600, 'min_samples_split': 10, 'min_samples_leaf': 1, 'max_features': 'auto', 'max_depth': None}\n",
      "0.716 (+/-0.042) for {'n_estimators': 600, 'min_samples_split': 5, 'min_samples_leaf': 1, 'max_features': 'auto', 'max_depth': 70}\n",
      "0.690 (+/-0.026) for {'n_estimators': 1800, 'min_samples_split': 2, 'min_samples_leaf': 4, 'max_features': 'auto', 'max_depth': 100}\n",
      "0.721 (+/-0.042) for {'n_estimators': 400, 'min_samples_split': 10, 'min_samples_leaf': 2, 'max_features': 'sqrt', 'max_depth': 110}\n",
      "0.691 (+/-0.035) for {'n_estimators': 1200, 'min_samples_split': 2, 'min_samples_leaf': 2, 'max_features': 'auto', 'max_depth': 80}\n",
      "0.657 (+/-0.016) for {'n_estimators': 400, 'min_samples_split': 2, 'min_samples_leaf': 1, 'max_features': 'auto', 'max_depth': 90}\n",
      "0.698 (+/-0.012) for {'n_estimators': 600, 'min_samples_split': 5, 'min_samples_leaf': 2, 'max_features': 'auto', 'max_depth': 10}\n",
      "\n",
      "Detailed classification report:\n",
      "\n",
      "The model is trained on the full development set.\n",
      "The scores are computed on the full evaluation set.\n",
      "\n",
      "             precision    recall  f1-score   support\n",
      "\n",
      "        0.0       0.76      0.90      0.82        72\n",
      "        1.0       0.68      0.42      0.52        36\n",
      "\n",
      "avg / total       0.73      0.74      0.72       108\n",
      "\n",
      "0.740740740741\n",
      "\n"
     ]
    }
   ],
   "source": [
    "loss =  ['deviance', 'exponential']\n",
    "n_estimators = [int(x) for x in np.linspace(start = 200, stop = 2000, num = 10)]\n",
    "# Number of features to consider at every split\n",
    "max_features = ['auto', 'sqrt']\n",
    "# Maximum number of levels in tree\n",
    "max_depth = [int(x) for x in np.linspace(10, 110, num = 11)]\n",
    "max_depth.append(None)\n",
    "# Minimum number of samples required to split a node\n",
    "min_samples_split = [2, 5, 10]\n",
    "# Minimum number of samples required at each leaf node\n",
    "min_samples_leaf = [1, 2, 4]\n",
    "random_grid = {'n_estimators': n_estimators,\n",
    "               'max_features': max_features,\n",
    "               'max_depth': max_depth,\n",
    "               'min_samples_split': min_samples_split,\n",
    "               'min_samples_leaf': min_samples_leaf}\n",
    "clf = RandomizedSearchCV(GradientBoostingClassifier(),random_grid,cv=3,scoring='accuracy')\n",
    "clf.fit(X_new_train, y_train)\n",
    "print(\"Best parameters set found on development set:\")\n",
    "print()\n",
    "print(clf.best_params_)\n",
    "print()\n",
    "print(\"Grid scores on development set:\")\n",
    "print()\n",
    "means = clf.cv_results_['mean_test_score']\n",
    "stds = clf.cv_results_['std_test_score']\n",
    "for mean, std, params in zip(means, stds, clf.cv_results_['params']):\n",
    "    print(\"%0.3f (+/-%0.03f) for %r\"\n",
    "          % (mean, std * 2, params))\n",
    "print()\n",
    "\n",
    "print(\"Detailed classification report:\")\n",
    "print()\n",
    "print(\"The model is trained on the full development set.\")\n",
    "print(\"The scores are computed on the full evaluation set.\")\n",
    "print()\n",
    "y_true, y_pred = y_test, clf.predict(X_new_test)\n",
    "print(classification_report(y_true, y_pred))\n",
    "print(accuracy_score(y_true, y_pred))\n",
    "print()\n",
    "\n"
   ]
  },
  {
   "cell_type": "markdown",
   "metadata": {},
   "source": [
    "0.74 with {'n_estimators': 600, 'min_samples_split': 5, 'min_samples_leaf': 1, 'max_features': 'sqrt', 'max_depth': 90}"
   ]
  },
  {
   "cell_type": "markdown",
   "metadata": {},
   "source": [
    "## Step 2\n",
    "As the results show,, the top models are: \n",
    "* Linear SVM \n",
    "* Decision Tree \n",
    "* Random Forest \n",
    "* AdaBoost \n",
    "* GradientBoostingClassifier \n",
    "\n",
    "Have better performance over 70 percent and therfore, their prediction score is calculated\n",
    "\n",
    "Now:\n",
    "\n",
    "* Tweak the hyper-parameters\n",
    "\n",
    "* Getting the accuracy level"
   ]
  },
  {
   "cell_type": "markdown",
   "metadata": {},
   "source": [
    "### All the variables"
   ]
  },
  {
   "cell_type": "markdown",
   "metadata": {},
   "source": [
    "### Decision Tree"
   ]
  },
  {
   "cell_type": "code",
   "execution_count": 63,
   "metadata": {
    "scrolled": true
   },
   "outputs": [
    {
     "name": "stdout",
     "output_type": "stream",
     "text": [
      "Best parameters set found on development set:\n",
      "\n",
      "{'min_samples_split': 110, 'max_depth': 7}\n",
      "\n",
      "Grid scores on development set:\n",
      "\n",
      "0.714 (+/-0.048) for {'min_samples_split': 370, 'max_depth': 19}\n",
      "0.667 (+/-0.000) for {'min_samples_split': 490, 'max_depth': 11}\n",
      "0.714 (+/-0.048) for {'min_samples_split': 310, 'max_depth': 13}\n",
      "0.739 (+/-0.081) for {'min_samples_split': 110, 'max_depth': 7}\n",
      "0.722 (+/-0.032) for {'min_samples_split': 210, 'max_depth': 7}\n",
      "0.714 (+/-0.048) for {'min_samples_split': 350, 'max_depth': 9}\n",
      "0.667 (+/-0.000) for {'min_samples_split': 450, 'max_depth': 5}\n",
      "0.722 (+/-0.032) for {'min_samples_split': 210, 'max_depth': 11}\n",
      "0.714 (+/-0.048) for {'min_samples_split': 370, 'max_depth': 1}\n",
      "0.717 (+/-0.060) for {'min_samples_split': 150, 'max_depth': 17}\n",
      "\n",
      "Detailed classification report:\n",
      "\n",
      "The model is trained on the full development set.\n",
      "The scores are computed on the full evaluation set.\n",
      "\n",
      "             precision    recall  f1-score   support\n",
      "\n",
      "        0.0       0.78      0.83      0.81        72\n",
      "        1.0       0.61      0.53      0.57        36\n",
      "\n",
      "avg / total       0.72      0.73      0.73       108\n",
      "\n",
      "0.731481481481\n",
      "\n"
     ]
    }
   ],
   "source": [
    "n_estimators = [int(x) for x in np.linspace(start = 3, stop = 300, num = 10)]\n",
    "# Number of features to consider at every split\n",
    "max_features = ['auto', 'sqrt']\n",
    "# Maximum number of levels in tree\n",
    "max_depth = [int(x) for x in np.linspace(10, 110, num = 11)]\n",
    "max_depth.append(None)\n",
    "# Minimum number of samples required to split a node\n",
    "min_samples_split = [2, 5, 10]\n",
    "# Minimum number of samples required at each leaf node\n",
    "min_samples_leaf = [1, 2, 4]\n",
    "# Method of selecting samples for training each tree\n",
    "bootstrap = [True, False]\n",
    "# Create the random grid\n",
    "parameters={'min_samples_split' : range(10,500,20),'max_depth': range(1,20,2)} \n",
    "# tuned_parameters = {'n_estimators': range(10,20),'criterion': ['gini','entropy'], 'min_samples_split' : [2,5]}\n",
    "clf = RandomizedSearchCV(DecisionTreeClassifier(),parameters,cv=3)\n",
    "clf.fit(X_train, y_train)\n",
    "print(\"Best parameters set found on development set:\")\n",
    "print()\n",
    "print(clf.best_params_)\n",
    "print()\n",
    "print(\"Grid scores on development set:\")\n",
    "print()\n",
    "means = clf.cv_results_['mean_test_score']\n",
    "stds = clf.cv_results_['std_test_score']\n",
    "for mean, std, params in zip(means, stds, clf.cv_results_['params']):\n",
    "    print(\"%0.3f (+/-%0.03f) for %r\"\n",
    "          % (mean, std * 2, params))\n",
    "print()\n",
    "\n",
    "print(\"Detailed classification report:\")\n",
    "print()\n",
    "print(\"The model is trained on the full development set.\")\n",
    "print(\"The scores are computed on the full evaluation set.\")\n",
    "print()\n",
    "y_true, y_pred = y_test, clf.predict(X_test)\n",
    "print(classification_report(y_true, y_pred))\n",
    "print(accuracy_score(y_true, y_pred))\n",
    "\n",
    "print()\n"
   ]
  },
  {
   "cell_type": "markdown",
   "metadata": {},
   "source": [
    "####  Random Forests"
   ]
  },
  {
   "cell_type": "code",
   "execution_count": 64,
   "metadata": {},
   "outputs": [
    {
     "name": "stderr",
     "output_type": "stream",
     "text": [
      "C:\\Users\\parha\\Anaconda3\\lib\\site-packages\\sklearn\\model_selection\\_validation.py:458: DataConversionWarning: A column-vector y was passed when a 1d array was expected. Please change the shape of y to (n_samples,), for example using ravel().\n",
      "  estimator.fit(X_train, y_train, **fit_params)\n",
      "C:\\Users\\parha\\Anaconda3\\lib\\site-packages\\sklearn\\model_selection\\_validation.py:458: DataConversionWarning: A column-vector y was passed when a 1d array was expected. Please change the shape of y to (n_samples,), for example using ravel().\n",
      "  estimator.fit(X_train, y_train, **fit_params)\n",
      "C:\\Users\\parha\\Anaconda3\\lib\\site-packages\\sklearn\\model_selection\\_validation.py:458: DataConversionWarning: A column-vector y was passed when a 1d array was expected. Please change the shape of y to (n_samples,), for example using ravel().\n",
      "  estimator.fit(X_train, y_train, **fit_params)\n",
      "C:\\Users\\parha\\Anaconda3\\lib\\site-packages\\sklearn\\model_selection\\_validation.py:458: DataConversionWarning: A column-vector y was passed when a 1d array was expected. Please change the shape of y to (n_samples,), for example using ravel().\n",
      "  estimator.fit(X_train, y_train, **fit_params)\n",
      "C:\\Users\\parha\\Anaconda3\\lib\\site-packages\\sklearn\\model_selection\\_validation.py:458: DataConversionWarning: A column-vector y was passed when a 1d array was expected. Please change the shape of y to (n_samples,), for example using ravel().\n",
      "  estimator.fit(X_train, y_train, **fit_params)\n",
      "C:\\Users\\parha\\Anaconda3\\lib\\site-packages\\sklearn\\model_selection\\_validation.py:458: DataConversionWarning: A column-vector y was passed when a 1d array was expected. Please change the shape of y to (n_samples,), for example using ravel().\n",
      "  estimator.fit(X_train, y_train, **fit_params)\n",
      "C:\\Users\\parha\\Anaconda3\\lib\\site-packages\\sklearn\\model_selection\\_validation.py:458: DataConversionWarning: A column-vector y was passed when a 1d array was expected. Please change the shape of y to (n_samples,), for example using ravel().\n",
      "  estimator.fit(X_train, y_train, **fit_params)\n",
      "C:\\Users\\parha\\Anaconda3\\lib\\site-packages\\sklearn\\model_selection\\_validation.py:458: DataConversionWarning: A column-vector y was passed when a 1d array was expected. Please change the shape of y to (n_samples,), for example using ravel().\n",
      "  estimator.fit(X_train, y_train, **fit_params)\n",
      "C:\\Users\\parha\\Anaconda3\\lib\\site-packages\\sklearn\\model_selection\\_validation.py:458: DataConversionWarning: A column-vector y was passed when a 1d array was expected. Please change the shape of y to (n_samples,), for example using ravel().\n",
      "  estimator.fit(X_train, y_train, **fit_params)\n",
      "C:\\Users\\parha\\Anaconda3\\lib\\site-packages\\sklearn\\model_selection\\_validation.py:458: DataConversionWarning: A column-vector y was passed when a 1d array was expected. Please change the shape of y to (n_samples,), for example using ravel().\n",
      "  estimator.fit(X_train, y_train, **fit_params)\n",
      "C:\\Users\\parha\\Anaconda3\\lib\\site-packages\\sklearn\\model_selection\\_validation.py:458: DataConversionWarning: A column-vector y was passed when a 1d array was expected. Please change the shape of y to (n_samples,), for example using ravel().\n",
      "  estimator.fit(X_train, y_train, **fit_params)\n",
      "C:\\Users\\parha\\Anaconda3\\lib\\site-packages\\sklearn\\model_selection\\_validation.py:458: DataConversionWarning: A column-vector y was passed when a 1d array was expected. Please change the shape of y to (n_samples,), for example using ravel().\n",
      "  estimator.fit(X_train, y_train, **fit_params)\n",
      "C:\\Users\\parha\\Anaconda3\\lib\\site-packages\\sklearn\\model_selection\\_validation.py:458: DataConversionWarning: A column-vector y was passed when a 1d array was expected. Please change the shape of y to (n_samples,), for example using ravel().\n",
      "  estimator.fit(X_train, y_train, **fit_params)\n",
      "C:\\Users\\parha\\Anaconda3\\lib\\site-packages\\sklearn\\model_selection\\_validation.py:458: DataConversionWarning: A column-vector y was passed when a 1d array was expected. Please change the shape of y to (n_samples,), for example using ravel().\n",
      "  estimator.fit(X_train, y_train, **fit_params)\n",
      "C:\\Users\\parha\\Anaconda3\\lib\\site-packages\\sklearn\\model_selection\\_validation.py:458: DataConversionWarning: A column-vector y was passed when a 1d array was expected. Please change the shape of y to (n_samples,), for example using ravel().\n",
      "  estimator.fit(X_train, y_train, **fit_params)\n",
      "C:\\Users\\parha\\Anaconda3\\lib\\site-packages\\sklearn\\model_selection\\_validation.py:458: DataConversionWarning: A column-vector y was passed when a 1d array was expected. Please change the shape of y to (n_samples,), for example using ravel().\n",
      "  estimator.fit(X_train, y_train, **fit_params)\n",
      "C:\\Users\\parha\\Anaconda3\\lib\\site-packages\\sklearn\\model_selection\\_validation.py:458: DataConversionWarning: A column-vector y was passed when a 1d array was expected. Please change the shape of y to (n_samples,), for example using ravel().\n",
      "  estimator.fit(X_train, y_train, **fit_params)\n",
      "C:\\Users\\parha\\Anaconda3\\lib\\site-packages\\sklearn\\model_selection\\_validation.py:458: DataConversionWarning: A column-vector y was passed when a 1d array was expected. Please change the shape of y to (n_samples,), for example using ravel().\n",
      "  estimator.fit(X_train, y_train, **fit_params)\n",
      "C:\\Users\\parha\\Anaconda3\\lib\\site-packages\\sklearn\\model_selection\\_validation.py:458: DataConversionWarning: A column-vector y was passed when a 1d array was expected. Please change the shape of y to (n_samples,), for example using ravel().\n",
      "  estimator.fit(X_train, y_train, **fit_params)\n",
      "C:\\Users\\parha\\Anaconda3\\lib\\site-packages\\sklearn\\model_selection\\_validation.py:458: DataConversionWarning: A column-vector y was passed when a 1d array was expected. Please change the shape of y to (n_samples,), for example using ravel().\n",
      "  estimator.fit(X_train, y_train, **fit_params)\n",
      "C:\\Users\\parha\\Anaconda3\\lib\\site-packages\\sklearn\\model_selection\\_validation.py:458: DataConversionWarning: A column-vector y was passed when a 1d array was expected. Please change the shape of y to (n_samples,), for example using ravel().\n",
      "  estimator.fit(X_train, y_train, **fit_params)\n",
      "C:\\Users\\parha\\Anaconda3\\lib\\site-packages\\sklearn\\model_selection\\_validation.py:458: DataConversionWarning: A column-vector y was passed when a 1d array was expected. Please change the shape of y to (n_samples,), for example using ravel().\n",
      "  estimator.fit(X_train, y_train, **fit_params)\n",
      "C:\\Users\\parha\\Anaconda3\\lib\\site-packages\\sklearn\\model_selection\\_validation.py:458: DataConversionWarning: A column-vector y was passed when a 1d array was expected. Please change the shape of y to (n_samples,), for example using ravel().\n",
      "  estimator.fit(X_train, y_train, **fit_params)\n",
      "C:\\Users\\parha\\Anaconda3\\lib\\site-packages\\sklearn\\model_selection\\_validation.py:458: DataConversionWarning: A column-vector y was passed when a 1d array was expected. Please change the shape of y to (n_samples,), for example using ravel().\n",
      "  estimator.fit(X_train, y_train, **fit_params)\n",
      "C:\\Users\\parha\\Anaconda3\\lib\\site-packages\\sklearn\\model_selection\\_validation.py:458: DataConversionWarning: A column-vector y was passed when a 1d array was expected. Please change the shape of y to (n_samples,), for example using ravel().\n",
      "  estimator.fit(X_train, y_train, **fit_params)\n",
      "C:\\Users\\parha\\Anaconda3\\lib\\site-packages\\sklearn\\model_selection\\_validation.py:458: DataConversionWarning: A column-vector y was passed when a 1d array was expected. Please change the shape of y to (n_samples,), for example using ravel().\n",
      "  estimator.fit(X_train, y_train, **fit_params)\n",
      "C:\\Users\\parha\\Anaconda3\\lib\\site-packages\\sklearn\\model_selection\\_validation.py:458: DataConversionWarning: A column-vector y was passed when a 1d array was expected. Please change the shape of y to (n_samples,), for example using ravel().\n",
      "  estimator.fit(X_train, y_train, **fit_params)\n",
      "C:\\Users\\parha\\Anaconda3\\lib\\site-packages\\sklearn\\model_selection\\_validation.py:458: DataConversionWarning: A column-vector y was passed when a 1d array was expected. Please change the shape of y to (n_samples,), for example using ravel().\n",
      "  estimator.fit(X_train, y_train, **fit_params)\n",
      "C:\\Users\\parha\\Anaconda3\\lib\\site-packages\\sklearn\\model_selection\\_validation.py:458: DataConversionWarning: A column-vector y was passed when a 1d array was expected. Please change the shape of y to (n_samples,), for example using ravel().\n",
      "  estimator.fit(X_train, y_train, **fit_params)\n"
     ]
    },
    {
     "name": "stderr",
     "output_type": "stream",
     "text": [
      "C:\\Users\\parha\\Anaconda3\\lib\\site-packages\\sklearn\\model_selection\\_validation.py:458: DataConversionWarning: A column-vector y was passed when a 1d array was expected. Please change the shape of y to (n_samples,), for example using ravel().\n",
      "  estimator.fit(X_train, y_train, **fit_params)\n",
      "C:\\Users\\parha\\Anaconda3\\lib\\site-packages\\sklearn\\model_selection\\_search.py:739: DataConversionWarning: A column-vector y was passed when a 1d array was expected. Please change the shape of y to (n_samples,), for example using ravel().\n",
      "  self.best_estimator_.fit(X, y, **fit_params)\n"
     ]
    },
    {
     "name": "stdout",
     "output_type": "stream",
     "text": [
      "Best parameters set found on development set:\n",
      "\n",
      "{'n_estimators': 400, 'min_samples_split': 2, 'min_samples_leaf': 1, 'max_features': 'auto', 'max_depth': 100, 'bootstrap': False}\n",
      "\n",
      "Grid scores on development set:\n",
      "\n",
      "0.719 (+/-0.058) for {'n_estimators': 10, 'min_samples_split': 100, 'min_samples_leaf': 1, 'max_features': 'sqrt', 'max_depth': 90, 'bootstrap': True}\n",
      "0.712 (+/-0.012) for {'n_estimators': 800, 'min_samples_split': 200, 'min_samples_leaf': 4, 'max_features': 'auto', 'max_depth': 5, 'bootstrap': False}\n",
      "0.752 (+/-0.060) for {'n_estimators': 10, 'min_samples_split': 5, 'min_samples_leaf': 1, 'max_features': 'auto', 'max_depth': 100, 'bootstrap': False}\n",
      "0.757 (+/-0.032) for {'n_estimators': 600, 'min_samples_split': 2, 'min_samples_leaf': 2, 'max_features': 'sqrt', 'max_depth': 50, 'bootstrap': True}\n",
      "0.765 (+/-0.028) for {'n_estimators': 400, 'min_samples_split': 2, 'min_samples_leaf': 1, 'max_features': 'auto', 'max_depth': 100, 'bootstrap': False}\n",
      "0.734 (+/-0.038) for {'n_estimators': 100, 'min_samples_split': 100, 'min_samples_leaf': 2, 'max_features': 'auto', 'max_depth': None, 'bootstrap': True}\n",
      "0.758 (+/-0.028) for {'n_estimators': 400, 'min_samples_split': 10, 'min_samples_leaf': 1, 'max_features': 'sqrt', 'max_depth': 100, 'bootstrap': True}\n",
      "0.696 (+/-0.070) for {'n_estimators': 10, 'min_samples_split': 5, 'min_samples_leaf': 1, 'max_features': 'sqrt', 'max_depth': 30, 'bootstrap': True}\n",
      "0.681 (+/-0.014) for {'n_estimators': 50, 'min_samples_split': 200, 'min_samples_leaf': 1, 'max_features': 'sqrt', 'max_depth': 10, 'bootstrap': True}\n",
      "0.686 (+/-0.000) for {'n_estimators': 600, 'min_samples_split': 200, 'min_samples_leaf': 4, 'max_features': 'auto', 'max_depth': 70, 'bootstrap': True}\n",
      "\n",
      "Detailed classification report:\n",
      "\n",
      "The model is trained on the full development set.\n",
      "The scores are computed on the full evaluation set.\n",
      "\n",
      "             precision    recall  f1-score   support\n",
      "\n",
      "        0.0       0.78      0.89      0.83        72\n",
      "        1.0       0.69      0.50      0.58        36\n",
      "\n",
      "avg / total       0.75      0.76      0.75       108\n",
      "\n",
      "0.759259259259\n",
      "\n"
     ]
    }
   ],
   "source": [
    "## Random Forest modification\n",
    "# Number of trees in random forest\n",
    "n_estimators = [int(x) for x in np.linspace(start = 3, stop = 300, num = 10)]\n",
    "# Number of features to consider at every split\n",
    "max_features = ['auto', 'sqrt']\n",
    "# Maximum number of levels in tree\n",
    "max_depth = [int(x) for x in np.linspace(1, 110,10)]\n",
    "\n",
    "max_depth.extend([5, 10,None,90])\n",
    "# Minimum number of samples required to split a node\n",
    "min_samples_split = [2, 5, 10, 90,230]\n",
    "# Minimum number of samples required at each leaf node\n",
    "min_samples_leaf = [1, 2, 4]\n",
    "# Method of selecting samples for training each tree\n",
    "bootstrap = [True, False]\n",
    "# Create the random grid\n",
    "random_grid = {'bootstrap': [True, False],\n",
    " 'max_depth': [3,5,10, 20, 30, 40, 50, 60, 70, 80, 90, 100, None],\n",
    " 'max_features': ['auto', 'sqrt'],\n",
    " 'min_samples_leaf': [1, 2, 4],\n",
    " 'min_samples_split': [2, 5, 10,100,200],\n",
    " 'n_estimators': [10,20,50,100,200, 400,600,800,1000]}\n",
    "# # random_grid = {'n_estimators': n_estimators,\n",
    "#                'max_features': max_features,\n",
    "#                'max_depth': max_depth,\n",
    "#                'min_samples_split': min_samples_split,\n",
    "#                'min_samples_leaf': min_samples_leaf,\n",
    "#                'bootstrap': bootstrap}\n",
    "# tuned_parameters = {'n_estimators': range(10,20),'criterion': ['gini','entropy'], 'min_samples_split' : [2,5]}\n",
    "\n",
    "clf = RandomizedSearchCV(RandomForestClassifier(),random_grid,cv=3)\n",
    "clf.fit(X_train, y_train)\n",
    "print(\"Best parameters set found on development set:\")\n",
    "print()\n",
    "print(clf.best_params_)\n",
    "print()\n",
    "print(\"Grid scores on development set:\")\n",
    "print()\n",
    "means = clf.cv_results_['mean_test_score']\n",
    "stds = clf.cv_results_['std_test_score']\n",
    "for mean, std, params in zip(means, stds, clf.cv_results_['params']):\n",
    "    print(\"%0.3f (+/-%0.03f) for %r\"\n",
    "          % (mean, std * 2, params))\n",
    "print()\n",
    "\n",
    "print(\"Detailed classification report:\")\n",
    "print()\n",
    "print(\"The model is trained on the full development set.\")\n",
    "print(\"The scores are computed on the full evaluation set.\")\n",
    "print()\n",
    "y_true, y_pred = y_test, clf.predict(X_test)\n",
    "print(classification_report(y_true, y_pred))\n",
    "print(accuracy_score(y_true, y_pred))\n",
    "\n",
    "print()"
   ]
  },
  {
   "cell_type": "code",
   "execution_count": 33,
   "metadata": {},
   "outputs": [
    {
     "name": "stdout",
     "output_type": "stream",
     "text": [
      "0.756944444444\n"
     ]
    }
   ],
   "source": [
    "clfRandom = RandomForestClassifier(n_estimators= 10, min_samples_split= 10, min_samples_leaf= 1, max_features= 'sqrt', max_depth= 80, bootstrap= False)\n",
    "clfRandom.fit(X_train,y_train)\n",
    "y_true, y_pred = y_test, clfRandom.predict(X_test)\n",
    "print(accuracy_score(y_true, y_pred))\n",
    "\n",
    "\n"
   ]
  },
  {
   "cell_type": "markdown",
   "metadata": {},
   "source": [
    "#### GradientBoostingClassifier"
   ]
  },
  {
   "cell_type": "code",
   "execution_count": 71,
   "metadata": {},
   "outputs": [
    {
     "name": "stderr",
     "output_type": "stream",
     "text": [
      "C:\\Users\\parha\\Anaconda3\\lib\\site-packages\\sklearn\\utils\\validation.py:578: DataConversionWarning: A column-vector y was passed when a 1d array was expected. Please change the shape of y to (n_samples, ), for example using ravel().\n",
      "  y = column_or_1d(y, warn=True)\n",
      "C:\\Users\\parha\\Anaconda3\\lib\\site-packages\\sklearn\\utils\\validation.py:578: DataConversionWarning: A column-vector y was passed when a 1d array was expected. Please change the shape of y to (n_samples, ), for example using ravel().\n",
      "  y = column_or_1d(y, warn=True)\n",
      "C:\\Users\\parha\\Anaconda3\\lib\\site-packages\\sklearn\\utils\\validation.py:578: DataConversionWarning: A column-vector y was passed when a 1d array was expected. Please change the shape of y to (n_samples, ), for example using ravel().\n",
      "  y = column_or_1d(y, warn=True)\n",
      "C:\\Users\\parha\\Anaconda3\\lib\\site-packages\\sklearn\\utils\\validation.py:578: DataConversionWarning: A column-vector y was passed when a 1d array was expected. Please change the shape of y to (n_samples, ), for example using ravel().\n",
      "  y = column_or_1d(y, warn=True)\n",
      "C:\\Users\\parha\\Anaconda3\\lib\\site-packages\\sklearn\\utils\\validation.py:578: DataConversionWarning: A column-vector y was passed when a 1d array was expected. Please change the shape of y to (n_samples, ), for example using ravel().\n",
      "  y = column_or_1d(y, warn=True)\n",
      "C:\\Users\\parha\\Anaconda3\\lib\\site-packages\\sklearn\\utils\\validation.py:578: DataConversionWarning: A column-vector y was passed when a 1d array was expected. Please change the shape of y to (n_samples, ), for example using ravel().\n",
      "  y = column_or_1d(y, warn=True)\n",
      "C:\\Users\\parha\\Anaconda3\\lib\\site-packages\\sklearn\\utils\\validation.py:578: DataConversionWarning: A column-vector y was passed when a 1d array was expected. Please change the shape of y to (n_samples, ), for example using ravel().\n",
      "  y = column_or_1d(y, warn=True)\n",
      "C:\\Users\\parha\\Anaconda3\\lib\\site-packages\\sklearn\\utils\\validation.py:578: DataConversionWarning: A column-vector y was passed when a 1d array was expected. Please change the shape of y to (n_samples, ), for example using ravel().\n",
      "  y = column_or_1d(y, warn=True)\n",
      "C:\\Users\\parha\\Anaconda3\\lib\\site-packages\\sklearn\\utils\\validation.py:578: DataConversionWarning: A column-vector y was passed when a 1d array was expected. Please change the shape of y to (n_samples, ), for example using ravel().\n",
      "  y = column_or_1d(y, warn=True)\n",
      "C:\\Users\\parha\\Anaconda3\\lib\\site-packages\\sklearn\\utils\\validation.py:578: DataConversionWarning: A column-vector y was passed when a 1d array was expected. Please change the shape of y to (n_samples, ), for example using ravel().\n",
      "  y = column_or_1d(y, warn=True)\n",
      "C:\\Users\\parha\\Anaconda3\\lib\\site-packages\\sklearn\\utils\\validation.py:578: DataConversionWarning: A column-vector y was passed when a 1d array was expected. Please change the shape of y to (n_samples, ), for example using ravel().\n",
      "  y = column_or_1d(y, warn=True)\n",
      "C:\\Users\\parha\\Anaconda3\\lib\\site-packages\\sklearn\\utils\\validation.py:578: DataConversionWarning: A column-vector y was passed when a 1d array was expected. Please change the shape of y to (n_samples, ), for example using ravel().\n",
      "  y = column_or_1d(y, warn=True)\n",
      "C:\\Users\\parha\\Anaconda3\\lib\\site-packages\\sklearn\\utils\\validation.py:578: DataConversionWarning: A column-vector y was passed when a 1d array was expected. Please change the shape of y to (n_samples, ), for example using ravel().\n",
      "  y = column_or_1d(y, warn=True)\n",
      "C:\\Users\\parha\\Anaconda3\\lib\\site-packages\\sklearn\\utils\\validation.py:578: DataConversionWarning: A column-vector y was passed when a 1d array was expected. Please change the shape of y to (n_samples, ), for example using ravel().\n",
      "  y = column_or_1d(y, warn=True)\n",
      "C:\\Users\\parha\\Anaconda3\\lib\\site-packages\\sklearn\\utils\\validation.py:578: DataConversionWarning: A column-vector y was passed when a 1d array was expected. Please change the shape of y to (n_samples, ), for example using ravel().\n",
      "  y = column_or_1d(y, warn=True)\n",
      "C:\\Users\\parha\\Anaconda3\\lib\\site-packages\\sklearn\\utils\\validation.py:578: DataConversionWarning: A column-vector y was passed when a 1d array was expected. Please change the shape of y to (n_samples, ), for example using ravel().\n",
      "  y = column_or_1d(y, warn=True)\n",
      "C:\\Users\\parha\\Anaconda3\\lib\\site-packages\\sklearn\\utils\\validation.py:578: DataConversionWarning: A column-vector y was passed when a 1d array was expected. Please change the shape of y to (n_samples, ), for example using ravel().\n",
      "  y = column_or_1d(y, warn=True)\n",
      "C:\\Users\\parha\\Anaconda3\\lib\\site-packages\\sklearn\\utils\\validation.py:578: DataConversionWarning: A column-vector y was passed when a 1d array was expected. Please change the shape of y to (n_samples, ), for example using ravel().\n",
      "  y = column_or_1d(y, warn=True)\n",
      "C:\\Users\\parha\\Anaconda3\\lib\\site-packages\\sklearn\\utils\\validation.py:578: DataConversionWarning: A column-vector y was passed when a 1d array was expected. Please change the shape of y to (n_samples, ), for example using ravel().\n",
      "  y = column_or_1d(y, warn=True)\n",
      "C:\\Users\\parha\\Anaconda3\\lib\\site-packages\\sklearn\\utils\\validation.py:578: DataConversionWarning: A column-vector y was passed when a 1d array was expected. Please change the shape of y to (n_samples, ), for example using ravel().\n",
      "  y = column_or_1d(y, warn=True)\n",
      "C:\\Users\\parha\\Anaconda3\\lib\\site-packages\\sklearn\\utils\\validation.py:578: DataConversionWarning: A column-vector y was passed when a 1d array was expected. Please change the shape of y to (n_samples, ), for example using ravel().\n",
      "  y = column_or_1d(y, warn=True)\n",
      "C:\\Users\\parha\\Anaconda3\\lib\\site-packages\\sklearn\\utils\\validation.py:578: DataConversionWarning: A column-vector y was passed when a 1d array was expected. Please change the shape of y to (n_samples, ), for example using ravel().\n",
      "  y = column_or_1d(y, warn=True)\n",
      "C:\\Users\\parha\\Anaconda3\\lib\\site-packages\\sklearn\\utils\\validation.py:578: DataConversionWarning: A column-vector y was passed when a 1d array was expected. Please change the shape of y to (n_samples, ), for example using ravel().\n",
      "  y = column_or_1d(y, warn=True)\n",
      "C:\\Users\\parha\\Anaconda3\\lib\\site-packages\\sklearn\\utils\\validation.py:578: DataConversionWarning: A column-vector y was passed when a 1d array was expected. Please change the shape of y to (n_samples, ), for example using ravel().\n",
      "  y = column_or_1d(y, warn=True)\n",
      "C:\\Users\\parha\\Anaconda3\\lib\\site-packages\\sklearn\\utils\\validation.py:578: DataConversionWarning: A column-vector y was passed when a 1d array was expected. Please change the shape of y to (n_samples, ), for example using ravel().\n",
      "  y = column_or_1d(y, warn=True)\n",
      "C:\\Users\\parha\\Anaconda3\\lib\\site-packages\\sklearn\\utils\\validation.py:578: DataConversionWarning: A column-vector y was passed when a 1d array was expected. Please change the shape of y to (n_samples, ), for example using ravel().\n",
      "  y = column_or_1d(y, warn=True)\n",
      "C:\\Users\\parha\\Anaconda3\\lib\\site-packages\\sklearn\\utils\\validation.py:578: DataConversionWarning: A column-vector y was passed when a 1d array was expected. Please change the shape of y to (n_samples, ), for example using ravel().\n",
      "  y = column_or_1d(y, warn=True)\n",
      "C:\\Users\\parha\\Anaconda3\\lib\\site-packages\\sklearn\\utils\\validation.py:578: DataConversionWarning: A column-vector y was passed when a 1d array was expected. Please change the shape of y to (n_samples, ), for example using ravel().\n",
      "  y = column_or_1d(y, warn=True)\n",
      "C:\\Users\\parha\\Anaconda3\\lib\\site-packages\\sklearn\\utils\\validation.py:578: DataConversionWarning: A column-vector y was passed when a 1d array was expected. Please change the shape of y to (n_samples, ), for example using ravel().\n",
      "  y = column_or_1d(y, warn=True)\n",
      "C:\\Users\\parha\\Anaconda3\\lib\\site-packages\\sklearn\\utils\\validation.py:578: DataConversionWarning: A column-vector y was passed when a 1d array was expected. Please change the shape of y to (n_samples, ), for example using ravel().\n",
      "  y = column_or_1d(y, warn=True)\n",
      "C:\\Users\\parha\\Anaconda3\\lib\\site-packages\\sklearn\\utils\\validation.py:578: DataConversionWarning: A column-vector y was passed when a 1d array was expected. Please change the shape of y to (n_samples, ), for example using ravel().\n",
      "  y = column_or_1d(y, warn=True)\n"
     ]
    },
    {
     "name": "stdout",
     "output_type": "stream",
     "text": [
      "Best parameters set found on development set:\n",
      "\n",
      "{'n_estimators': 1400, 'min_samples_split': 10, 'min_samples_leaf': 2, 'max_features': 'sqrt', 'max_depth': 40}\n",
      "\n",
      "Grid scores on development set:\n",
      "\n",
      "0.766 (+/-0.033) for {'n_estimators': 1400, 'min_samples_split': 10, 'min_samples_leaf': 2, 'max_features': 'sqrt', 'max_depth': 40}\n",
      "0.763 (+/-0.030) for {'n_estimators': 2000, 'min_samples_split': 10, 'min_samples_leaf': 4, 'max_features': 'sqrt', 'max_depth': 30}\n",
      "0.750 (+/-0.089) for {'n_estimators': 1800, 'min_samples_split': 10, 'min_samples_leaf': 4, 'max_features': 'auto', 'max_depth': 50}\n",
      "0.752 (+/-0.033) for {'n_estimators': 1400, 'min_samples_split': 5, 'min_samples_leaf': 4, 'max_features': 'sqrt', 'max_depth': 110}\n",
      "0.714 (+/-0.061) for {'n_estimators': 1000, 'min_samples_split': 2, 'min_samples_leaf': 2, 'max_features': 'auto', 'max_depth': 60}\n",
      "0.752 (+/-0.028) for {'n_estimators': 200, 'min_samples_split': 10, 'min_samples_leaf': 1, 'max_features': 'sqrt', 'max_depth': 30}\n",
      "0.742 (+/-0.060) for {'n_estimators': 800, 'min_samples_split': 10, 'min_samples_leaf': 2, 'max_features': 'auto', 'max_depth': 40}\n",
      "0.743 (+/-0.069) for {'n_estimators': 200, 'min_samples_split': 10, 'min_samples_leaf': 4, 'max_features': 'auto', 'max_depth': 60}\n",
      "0.722 (+/-0.081) for {'n_estimators': 2000, 'min_samples_split': 2, 'min_samples_leaf': 1, 'max_features': 'auto', 'max_depth': 10}\n",
      "0.740 (+/-0.037) for {'n_estimators': 1400, 'min_samples_split': 10, 'min_samples_leaf': 2, 'max_features': 'auto', 'max_depth': 30}\n",
      "\n",
      "Detailed classification report:\n",
      "\n",
      "The model is trained on the full development set.\n",
      "The scores are computed on the full evaluation set.\n",
      "\n",
      "             precision    recall  f1-score   support\n",
      "\n",
      "        0.0       0.79      0.89      0.84        72\n",
      "        1.0       0.70      0.53      0.60        36\n",
      "\n",
      "avg / total       0.76      0.77      0.76       108\n",
      "\n",
      "0.768518518519\n",
      "\n"
     ]
    }
   ],
   "source": [
    "loss =  ['deviance', 'exponential']\n",
    "n_estimators = [int(x) for x in np.linspace(start = 200, stop = 2000, num = 10)]\n",
    "# Number of features to consider at every split\n",
    "max_features = ['auto', 'sqrt']\n",
    "# Maximum number of levels in tree\n",
    "max_depth = [int(x) for x in np.linspace(10, 110, num = 11)]\n",
    "max_depth.append(None)\n",
    "# Minimum number of samples required to split a node\n",
    "min_samples_split = [2, 5, 10]\n",
    "# Minimum number of samples required at each leaf node\n",
    "min_samples_leaf = [1, 2, 4]\n",
    "random_grid = {'n_estimators': n_estimators,\n",
    "               'max_features': max_features,\n",
    "               'max_depth': max_depth,\n",
    "               'min_samples_split': min_samples_split,\n",
    "               'min_samples_leaf': min_samples_leaf}\n",
    "clf = RandomizedSearchCV(GradientBoostingClassifier(),random_grid,cv=3,scoring='accuracy')\n",
    "clf.fit(X_train, y_train)\n",
    "print(\"Best parameters set found on development set:\")\n",
    "print()\n",
    "print(clf.best_params_)\n",
    "print()\n",
    "print(\"Grid scores on development set:\")\n",
    "print()\n",
    "means = clf.cv_results_['mean_test_score']\n",
    "stds = clf.cv_results_['std_test_score']\n",
    "for mean, std, params in zip(means, stds, clf.cv_results_['params']):\n",
    "    print(\"%0.3f (+/-%0.03f) for %r\"\n",
    "          % (mean, std * 2, params))\n",
    "print()\n",
    "\n",
    "print(\"Detailed classification report:\")\n",
    "print()\n",
    "print(\"The model is trained on the full development set.\")\n",
    "print(\"The scores are computed on the full evaluation set.\")\n",
    "print()\n",
    "y_true, y_pred = y_test, clf.predict(X_test)\n",
    "print(classification_report(y_true, y_pred))\n",
    "print(accuracy_score(y_true, y_pred))\n",
    "print()\n",
    "\n"
   ]
  },
  {
   "cell_type": "code",
   "execution_count": 65,
   "metadata": {},
   "outputs": [
    {
     "name": "stderr",
     "output_type": "stream",
     "text": [
      "C:\\Users\\parha\\Anaconda3\\lib\\site-packages\\sklearn\\utils\\validation.py:578: DataConversionWarning: A column-vector y was passed when a 1d array was expected. Please change the shape of y to (n_samples, ), for example using ravel().\n",
      "  y = column_or_1d(y, warn=True)\n"
     ]
    },
    {
     "name": "stdout",
     "output_type": "stream",
     "text": [
      "             precision    recall  f1-score   support\n",
      "\n",
      "        0.0       0.78      0.89      0.83        72\n",
      "        1.0       0.69      0.50      0.58        36\n",
      "\n",
      "avg / total       0.75      0.76      0.75       108\n",
      "\n",
      "0.759259259259\n"
     ]
    }
   ],
   "source": [
    "clf = GradientBoostingClassifier(max_depth= 10, max_features = 'auto',min_samples_leaf =  4, min_samples_split = 5, n_estimators =  400)\n",
    "clf.fit(X_train, y_train)\n",
    "y_true, y_pred = y_test, clf.predict(X_test)\n",
    "print(classification_report(y_true, y_pred))\n",
    "print(accuracy_score(y_true, y_pred))"
   ]
  },
  {
   "cell_type": "markdown",
   "metadata": {},
   "source": [
    "## Desicion Tree drawing\n",
    "In this step, I used GridSearch and Random Search CV to find best hyper parameters"
   ]
  },
  {
   "cell_type": "code",
   "execution_count": null,
   "metadata": {
    "collapsed": true
   },
   "outputs": [],
   "source": [
    "tree_para = {'criterion':['gini','entropy'],'max_depth':[4,5,6,7,8,9,10,11,12,15,20,30,40,50,70,90,120,150]}\n",
    "\n",
    "clf = GridSearchCV(tree.DecisionTreeClassifier(),cv =3,param_grid=tree_para)\n",
    "clf.fit(X_train, y_train)\n"
   ]
  },
  {
   "cell_type": "code",
   "execution_count": null,
   "metadata": {
    "collapsed": true
   },
   "outputs": [],
   "source": [
    "clf.fit(X_train, y_train)\n"
   ]
  },
  {
   "cell_type": "code",
   "execution_count": null,
   "metadata": {
    "collapsed": true
   },
   "outputs": [],
   "source": [
    "df_x.columns[30]"
   ]
  },
  {
   "cell_type": "code",
   "execution_count": null,
   "metadata": {
    "collapsed": true,
    "scrolled": true
   },
   "outputs": [],
   "source": [
    "clf = tree.DecisionTreeClassifier()\n",
    "clf.fit(X_train, y_train)\n",
    "\n",
    "dot_data = tree.export_graphviz(clf, out_file=None) \n",
    "graph = graphviz.Source(dot_data) \n",
    "graph.render(\"X_train\") \n",
    "graph"
   ]
  },
  {
   "cell_type": "code",
   "execution_count": null,
   "metadata": {
    "collapsed": true
   },
   "outputs": [],
   "source": [
    "accuracy_score(y_test, clf.predict(X_test))"
   ]
  },
  {
   "cell_type": "code",
   "execution_count": 103,
   "metadata": {},
   "outputs": [
    {
     "data": {
      "text/plain": [
       "[<matplotlib.lines.Line2D at 0x1529c6234e0>]"
      ]
     },
     "execution_count": 103,
     "metadata": {},
     "output_type": "execute_result"
    },
    {
     "data": {
      "image/png": "[encoded data removed]",
      "text/plain": [
       "<matplotlib.figure.Figure at 0x1529c83a668>"
      ]
     },
     "metadata": {},
     "output_type": "display_data"
    }
   ],
   "source": [
    "%matplotlib inline\n",
    "\n",
    "from sklearn.decomposition import PCA\n",
    "from sklearn.preprocessing import StandardScaler\n",
    "\n",
    "\n",
    "explained_ratio = []\n",
    "# for n in range(len(df_x.columns)-1):\n",
    "pca = PCA(n_components = 30)\n",
    "z_scaler = StandardScaler()\n",
    "z_data = z_scaler.fit_transform(X)\n",
    "\n",
    "pca_trafo = pca.fit(z_data)\n",
    "explained_ratio.append(pca.explained_variance_ratio_)\n",
    "plt.figure(figsize=(10,5))\n",
    "\n",
    "plt.plot(pca.explained_variance_ratio_, linewidth=2)\n",
    "\n",
    "# plt.xticks([i for i in range(30)])\n",
    "# plt.grid()\n",
    "# plt.semilogy(pca_trafo.explained_variance_ratio_, '--o');\n",
    "# plt.semilogy(pca_trafo.explained_variance_ratio_.cumsum(), '--o');\n",
    "\n"
   ]
  },
  {
   "cell_type": "code",
   "execution_count": 71,
   "metadata": {},
   "outputs": [
    {
     "data": {
      "text/plain": [
       "19"
      ]
     },
     "execution_count": 71,
     "metadata": {},
     "output_type": "execute_result"
    }
   ],
   "source": [
    "len(pca_trafo.explained_variance_ratio_.cumsum()[pca_trafo.explained_variance_ratio_.cumsum()<0.5])"
   ]
  },
  {
   "cell_type": "code",
   "execution_count": 75,
   "metadata": {},
   "outputs": [
    {
     "data": {
      "text/plain": [
       "array([ 0.11471764,  0.03868749,  0.03477226,  0.03072779,  0.02714005,\n",
       "        0.02561515,  0.02235116,  0.02121644,  0.01934605,  0.01886194,\n",
       "        0.01813997,  0.01806045,  0.01702277,  0.0162315 ,  0.01539811,\n",
       "        0.01510012,  0.01480272,  0.01416638,  0.01370553,  0.01340705,\n",
       "        0.01327252,  0.01311093,  0.0124293 ,  0.01218773,  0.0118817 ,\n",
       "        0.01149741,  0.01131385,  0.01110975,  0.01100196,  0.01045002,\n",
       "        0.01019297,  0.01006134,  0.00986182,  0.00966858,  0.00943518,\n",
       "        0.00911646,  0.00877393,  0.00865526,  0.008407  ,  0.00834361,\n",
       "        0.0081574 ,  0.00784644,  0.00778763,  0.0077477 ,  0.00742804,\n",
       "        0.00738238,  0.00727364,  0.00687247,  0.00676152,  0.00671359,\n",
       "        0.00645007,  0.0062929 ,  0.00618326,  0.00616452,  0.00608197,\n",
       "        0.00581715,  0.0056844 ,  0.005507  ,  0.00541939,  0.00537057,\n",
       "        0.00514645,  0.00500714,  0.00495364,  0.00485034,  0.00480422,\n",
       "        0.00464943,  0.00456524,  0.00442572,  0.00439906,  0.00427775,\n",
       "        0.00405653,  0.00396118,  0.00386109,  0.00377822,  0.00366461,\n",
       "        0.00364789,  0.00353697,  0.00344379,  0.00329885,  0.00328402,\n",
       "        0.00311894,  0.00301838,  0.00294887,  0.00291601,  0.00284563,\n",
       "        0.00273886,  0.00269238,  0.00255949,  0.00233615,  0.00230066,\n",
       "        0.0022738 ,  0.00217309,  0.0021329 ,  0.0020612 ,  0.00194209,\n",
       "        0.00188883,  0.00185092,  0.0018257 ,  0.0017118 ,  0.00165508,\n",
       "        0.00146695,  0.00144859,  0.00134683,  0.00131456,  0.00124929,\n",
       "        0.00116837,  0.00106443,  0.00098659,  0.00096566,  0.00094175])"
      ]
     },
     "execution_count": 75,
     "metadata": {},
     "output_type": "execute_result"
    }
   ],
   "source": [
    "pca_trafo.explained_variance_ratio_"
   ]
  },
  {
   "cell_type": "code",
   "execution_count": 55,
   "metadata": {
    "scrolled": false
   },
   "outputs": [
    {
     "data": {
      "text/plain": [
       "130"
      ]
     },
     "execution_count": 55,
     "metadata": {},
     "output_type": "execute_result"
    }
   ],
   "source": [
    "X.shape[1]"
   ]
  },
  {
   "cell_type": "code",
   "execution_count": 99,
   "metadata": {},
   "outputs": [
    {
     "name": "stderr",
     "output_type": "stream",
     "text": [
      "C:\\Users\\parha\\Anaconda3\\lib\\site-packages\\ipykernel_launcher.py:2: RuntimeWarning: divide by zero encountered in log\n",
      "  \n",
      "C:\\Users\\parha\\Anaconda3\\lib\\site-packages\\ipykernel_launcher.py:2: RuntimeWarning: invalid value encountered in log\n",
      "  \n",
      "C:\\Users\\parha\\Anaconda3\\lib\\site-packages\\matplotlib\\colors.py:860: RuntimeWarning: invalid value encountered in subtract\n",
      "  resdat -= vmin\n",
      "C:\\Users\\parha\\Anaconda3\\lib\\site-packages\\matplotlib\\colors.py:861: RuntimeWarning: invalid value encountered in true_divide\n",
      "  resdat /= (vmax - vmin)\n",
      "C:\\Users\\parha\\Anaconda3\\lib\\site-packages\\matplotlib\\colors.py:496: RuntimeWarning: invalid value encountered in less\n",
      "  cbook._putmask(xa, xa < 0.0, -1)\n"
     ]
    },
    {
     "data": {
      "text/plain": [
       "<matplotlib.figure.Figure at 0x1529c623a90>"
      ]
     },
     "execution_count": 99,
     "metadata": {},
     "output_type": "execute_result"
    },
    {
     "data": {
      "image/png": "[encoded data removed]",
      "text/plain": [
       "<matplotlib.figure.Figure at 0x1529c42c358>"
      ]
     },
     "metadata": {},
     "output_type": "display_data"
    },
    {
     "data": {
      "text/plain": [
       "<matplotlib.figure.Figure at 0x1529c623a90>"
      ]
     },
     "metadata": {},
     "output_type": "display_data"
    }
   ],
   "source": [
    "import seaborn as sns\n",
    "sns.heatmap(np.log(pca_trafo.inverse_transform(np.eye(z_data.shape[1]))), cmap=\"hot\", cbar=False)\n",
    "plt.figure(figsize=(50,50))\n"
   ]
  },
  {
   "cell_type": "code",
   "execution_count": 46,
   "metadata": {
    "scrolled": true
   },
   "outputs": [
    {
     "data": {
      "text/plain": [
       "PCA(copy=True, iterated_power='auto', n_components=None, random_state=None,\n",
       "  svd_solver='auto', tol=0.0, whiten=False)"
      ]
     },
     "execution_count": 46,
     "metadata": {},
     "output_type": "execute_result"
    }
   ],
   "source": [
    "PCA()"
   ]
  },
  {
   "cell_type": "code",
   "execution_count": 23,
   "metadata": {},
   "outputs": [
    {
     "data": {
      "text/plain": [
       "array([  9.94632103e-01,   3.65720126e-03,   1.43912360e-03,\n",
       "         1.26710260e-04,   2.48028309e-05,   1.47111427e-05,\n",
       "         1.14652346e-05,   7.73109815e-06,   6.76277967e-06,\n",
       "         5.81559268e-06,   4.72750035e-06,   4.13264553e-06,\n",
       "         3.79472275e-06,   3.20217636e-06,   2.97436796e-06,\n",
       "         2.74305001e-06,   2.47536992e-06,   2.32842173e-06,\n",
       "         2.28912391e-06,   2.04041529e-06])"
      ]
     },
     "execution_count": 23,
     "metadata": {},
     "output_type": "execute_result"
    }
   ],
   "source": [
    "pca.explained_variance_ratio_"
   ]
  },
  {
   "cell_type": "code",
   "execution_count": 15,
   "metadata": {},
   "outputs": [
    {
     "data": {
      "text/plain": [
       "array([[ -7.25570818e-05,  -8.32785908e-05,   1.65941567e-04,\n",
       "          2.20091844e-05,  -3.21150784e-05,   0.00000000e+00,\n",
       "          1.86171782e-04,   1.22453342e-04,  -9.65573904e-05,\n",
       "          1.83646105e-05,  -2.52997423e-05,   7.93160917e-01,\n",
       "          6.08994801e-01,   0.00000000e+00,   9.70817672e-07,\n",
       "         -1.78737840e-05,   1.31056861e-03,   3.97746446e-03,\n",
       "          1.27725384e-03,  -1.96705950e-04,   1.77344561e-05,\n",
       "         -1.58193968e-05,   1.43141172e-05,   1.97933412e-04,\n",
       "         -1.74566382e-05,  -3.44532993e-04,   6.65854849e-05,\n",
       "         -3.04185657e-05,  -1.03900709e-04,  -7.46868916e-05,\n",
       "         -4.43760190e-05,  -2.15185867e-05,  -1.57944908e-05,\n",
       "          2.15134765e-05,  -3.83059456e-05,  -1.08465525e-04,\n",
       "         -4.64066468e-06,   1.32862370e-04,  -4.05856101e-05,\n",
       "         -1.62822577e-05,   7.58708709e-06,  -6.46423494e-05,\n",
       "          9.28555031e-06,   2.75201675e-06,   4.78169499e-05,\n",
       "         -2.07073407e-06,  -1.28178559e-05,  -3.75260883e-05,\n",
       "          2.28796012e-05,   3.76684126e-05,  -2.14320954e-05,\n",
       "          3.56747786e-05,   2.40524942e-05,   1.03284359e-04,\n",
       "         -2.73748196e-06,   2.98976271e-05,  -5.66239805e-05,\n",
       "         -2.67179973e-06,   1.16144800e-05,  -1.58820745e-04,\n",
       "         -9.92455039e-06,  -1.37809492e-04,   3.32884630e-05,\n",
       "          7.25160150e-05,  -3.57898990e-05,  -3.50303042e-05,\n",
       "          4.11533303e-05,   5.44391209e-05,   4.73783023e-05,\n",
       "         -1.07402331e-04,   9.92844023e-05,  -3.25041142e-05,\n",
       "          1.12571769e-04,  -1.80517466e-05,  -6.99159216e-06,\n",
       "          4.85310764e-05,  -2.30260741e-05,   1.46612913e-05,\n",
       "          0.00000000e+00,  -4.72933109e-06,  -4.66193218e-05,\n",
       "         -3.85520088e-05,  -4.28567789e-05,   3.88127203e-06,\n",
       "         -8.12166999e-06,  -2.33777636e-05,  -5.82547343e-06,\n",
       "          7.21206510e-06,   8.68783589e-06,  -2.68673112e-05,\n",
       "          2.60780661e-06,   6.25786607e-05,  -1.25940734e-04,\n",
       "          2.53082786e-05,  -4.38833588e-05,  -2.18856967e-05,\n",
       "          9.08258831e-05,   3.85339848e-05,   2.98976271e-05,\n",
       "         -2.54171684e-05,   0.00000000e+00,  -2.31326113e-05,\n",
       "          1.42926156e-05,  -1.79107705e-04,  -2.26667291e-04,\n",
       "         -5.93811939e-06,  -5.81014694e-05,   8.29589583e-05,\n",
       "          1.89241837e-05,   4.40753339e-05,   7.76533383e-05,\n",
       "         -3.85801283e-06,  -6.65007077e-05,   4.94136335e-05,\n",
       "          4.94136335e-05,  -2.55268310e-06,   2.08119754e-05,\n",
       "          7.74144425e-06,  -1.69854725e-07,   1.16543734e-04,\n",
       "         -3.27461003e-05,   1.00629620e-04,   2.16806159e-05,\n",
       "         -9.66423355e-05,  -6.21960046e-05,  -1.82100701e-04,\n",
       "         -1.36700884e-04,   1.09214022e-03,  -5.62872033e-05,\n",
       "          1.48894194e-06],\n",
       "       [ -5.14136921e-04,  -8.14676080e-04,   5.31516771e-04,\n",
       "          2.77491225e-04,   5.19805005e-04,  -1.40629781e-34,\n",
       "          3.16005116e-03,   1.11224768e-03,  -1.25461289e-02,\n",
       "         -9.66742368e-04,  -5.05845988e-04,   6.08262772e-01,\n",
       "         -7.92246989e-01,   0.00000000e+00,   1.76839180e-05,\n",
       "         -4.22910709e-04,   4.54926217e-03,  -1.13941950e-02,\n",
       "          9.89555542e-03,  -1.95611042e-03,   3.41884194e-05,\n",
       "          2.12150075e-04,   7.18161285e-05,   1.73870853e-03,\n",
       "         -1.00752734e-04,  -4.79991912e-04,  -8.93214342e-04,\n",
       "         -4.41187061e-04,   4.01822594e-04,   2.95888954e-04,\n",
       "         -5.59940346e-04,   3.80723143e-04,  -1.22110976e-03,\n",
       "          8.92959632e-04,   3.10670533e-04,   8.45439886e-04,\n",
       "         -1.20549943e-05,   2.73517317e-04,  -1.70241796e-03,\n",
       "         -1.85590624e-04,  -2.14949331e-04,   3.09310527e-05,\n",
       "         -2.06810123e-04,  -3.50022189e-05,  -9.13138002e-04,\n",
       "          2.35240562e-05,  -7.83372853e-04,   9.61883392e-04,\n",
       "          2.21970045e-04,  -1.25989635e-03,  -1.34665596e-04,\n",
       "          1.22760398e-03,  -1.63546208e-04,  -3.36479404e-03,\n",
       "          3.31232542e-04,   3.67618627e-04,  -2.96941867e-03,\n",
       "         -4.08153224e-04,   8.75860517e-04,  -2.02990422e-03,\n",
       "          2.49086402e-06,   1.54837659e-04,   1.93860808e-04,\n",
       "         -5.73634650e-04,   7.84908420e-04,   2.76761056e-04,\n",
       "          1.58553959e-03,  -5.52634503e-05,   1.47626681e-03,\n",
       "         -6.41667172e-04,  -8.81030207e-04,  -4.49868318e-04,\n",
       "         -1.18194348e-03,   9.05119100e-04,  -6.38952994e-04,\n",
       "          3.33766558e-04,   5.78490883e-04,  -2.60574003e-04,\n",
       "          0.00000000e+00,   6.95359383e-05,  -3.22612928e-03,\n",
       "          7.74900801e-05,   1.89099141e-04,   5.79437881e-06,\n",
       "         -7.40728101e-04,  -8.06643128e-05,  -6.58943706e-05,\n",
       "         -1.26168043e-03,   7.07502186e-05,  -3.60164794e-04,\n",
       "         -5.74275227e-05,  -1.09916838e-03,  -2.02736610e-03,\n",
       "         -3.29179931e-05,   2.90945818e-04,   9.48020972e-05,\n",
       "         -7.46065427e-05,  -4.42059483e-04,   3.67618627e-04,\n",
       "         -3.74374114e-04,   0.00000000e+00,   4.81738532e-04,\n",
       "          7.38730882e-04,  -1.23554823e-03,  -3.26005019e-03,\n",
       "          8.53072768e-05,   4.21858442e-04,   2.80618680e-03,\n",
       "         -5.30701634e-06,  -3.06127122e-04,   8.52370031e-04,\n",
       "         -5.30779136e-05,  -2.49404727e-03,  -4.92608660e-04,\n",
       "         -4.92608660e-04,   4.50488984e-04,   3.55418688e-04,\n",
       "          1.23078718e-04,  -5.21206272e-05,   7.62448504e-04,\n",
       "         -3.94104760e-04,  -1.41259799e-03,  -9.18728651e-05,\n",
       "         -7.56925094e-04,   9.72098855e-04,  -2.11353818e-04,\n",
       "          1.49937174e-04,   4.25261331e-02,   4.94545273e-03,\n",
       "          5.97156135e-05],\n",
       "       [ -3.85271071e-03,   1.37584844e-03,   2.49925963e-04,\n",
       "          2.43366730e-03,  -2.06730996e-04,   1.70161264e-33,\n",
       "          8.34977828e-03,   2.08925601e-03,   1.98452639e-02,\n",
       "          6.49937032e-03,   3.69108966e-04,  -2.66243557e-02,\n",
       "          3.28611143e-02,  -0.00000000e+00,   4.93734616e-04,\n",
       "          1.04566681e-03,  -4.83850395e-03,   3.69886705e-03,\n",
       "          8.03783001e-03,  -2.77098827e-03,   1.03297298e-03,\n",
       "          7.19930853e-04,   9.33141649e-04,   2.30826880e-04,\n",
       "         -1.45884093e-04,  -6.66231206e-03,   5.27444199e-04,\n",
       "          3.49335336e-03,   3.40558265e-03,  -1.90319546e-04,\n",
       "          5.36184962e-03,   4.92322522e-06,   2.84227701e-03,\n",
       "          2.33145341e-03,   1.69202421e-03,   1.71560505e-03,\n",
       "          9.36734561e-05,  -3.80183167e-04,   4.35733160e-03,\n",
       "          3.25612631e-04,  -7.49075763e-04,   1.20739592e-03,\n",
       "          1.93736683e-04,   9.39299086e-06,  -1.02425781e-03,\n",
       "          4.07706305e-05,   1.94384805e-03,   3.45944571e-03,\n",
       "          3.23174254e-04,   9.71121423e-04,  -8.93525192e-05,\n",
       "         -4.79153116e-04,   1.62419639e-05,   4.46858026e-03,\n",
       "         -9.57082281e-04,   3.34038165e-03,  -1.82408907e-04,\n",
       "          3.02951350e-04,   1.91308705e-03,   7.97704558e-03,\n",
       "          1.17174440e-04,   2.10718581e-03,   3.49233593e-04,\n",
       "          1.42218773e-03,   6.28066635e-03,   4.83764431e-03,\n",
       "          4.11522485e-03,   8.97840022e-04,   6.11844976e-03,\n",
       "          7.77958771e-03,   5.50022993e-04,   5.48604895e-04,\n",
       "         -2.31658836e-04,   1.53096884e-03,   2.69613420e-04,\n",
       "          2.50086308e-04,   8.31639092e-04,   6.30991581e-04,\n",
       "         -0.00000000e+00,   2.51478753e-04,  -5.05087398e-04,\n",
       "          1.67677621e-03,   1.73091266e-03,  -1.37752033e-05,\n",
       "          8.96232553e-04,  -6.54210294e-04,  -3.50708088e-05,\n",
       "          7.48355146e-04,   6.01585623e-05,   1.41890981e-03,\n",
       "          1.78799396e-04,   8.70861656e-04,   5.15505600e-04,\n",
       "          1.13735474e-03,   2.18489084e-03,   4.20394493e-04,\n",
       "          2.54276008e-04,  -1.19303850e-04,   3.34038165e-03,\n",
       "          2.54309795e-04,  -0.00000000e+00,   1.11655128e-03,\n",
       "         -2.63307450e-03,  -2.98738711e-03,   7.08465736e-03,\n",
       "          4.26334550e-04,   2.04074408e-03,  -3.29560049e-03,\n",
       "         -5.32353909e-04,   9.11638803e-05,  -3.86939885e-04,\n",
       "          4.78713005e-04,   1.01309025e-02,  -2.10090264e-03,\n",
       "         -2.10090264e-03,   1.82112820e-04,   1.22536280e-03,\n",
       "          8.72683572e-04,  -5.54446667e-05,  -7.77279141e-04,\n",
       "         -8.01862299e-04,  -4.24141776e-03,   5.30342604e-04,\n",
       "          1.27619593e-03,   2.78128407e-03,  -1.43317777e-03,\n",
       "          4.45501909e-03,   9.98394246e-01,   7.27085192e-03,\n",
       "         -3.32054056e-05],\n",
       "       [  2.35916900e-02,  -1.20342737e-02,  -9.49624514e-03,\n",
       "          3.00279499e-03,  -5.06396611e-03,   9.53744515e-27,\n",
       "         -4.22742435e-02,   7.53318843e-03,  -7.37809835e-01,\n",
       "         -1.08724366e-01,  -3.05570612e-03,  -9.58813274e-03,\n",
       "          1.43897149e-02,  -0.00000000e+00,  -1.91765066e-03,\n",
       "         -5.38369509e-03,   8.84175474e-02,  -3.31051685e-01,\n",
       "         -9.24379188e-02,   1.41657314e-02,   3.06915784e-05,\n",
       "          3.01637536e-03,  -2.96664410e-03,  -1.25807651e-02,\n",
       "         -1.66538923e-03,   4.93819656e-02,  -2.13529505e-02,\n",
       "         -1.25363464e-02,  -2.37793468e-02,  -6.02027245e-02,\n",
       "         -2.62437929e-02,  -5.59307054e-02,  -8.77656811e-02,\n",
       "         -6.34323414e-02,  -2.87757294e-03,  -2.27901104e-02,\n",
       "         -2.20432517e-04,  -2.04170679e-03,  -9.63083949e-02,\n",
       "         -1.01638352e-03,  -7.36067978e-03,  -2.06722146e-03,\n",
       "         -1.68823512e-04,  -2.51592160e-04,  -6.07837614e-03,\n",
       "         -7.52681978e-05,  -1.14877720e-01,  -1.73048645e-02,\n",
       "          2.81603886e-04,  -2.08062948e-02,  -2.96228008e-03,\n",
       "         -1.46707847e-02,  -2.59575114e-03,  -5.80195627e-02,\n",
       "         -7.27220032e-03,  -6.58846360e-02,  -1.27976742e-01,\n",
       "         -4.15157397e-03,  -7.46233996e-03,  -1.90556110e-01,\n",
       "         -5.28401160e-04,  -3.25156262e-02,   3.04737771e-04,\n",
       "         -4.72695507e-02,  -2.35336650e-02,  -2.73872238e-02,\n",
       "         -5.51109195e-02,  -4.46227384e-03,  -1.27331100e-01,\n",
       "         -6.89413458e-02,  -1.06817402e-02,  -3.14963926e-02,\n",
       "         -3.40390157e-02,  -6.26475383e-03,  -3.53035373e-02,\n",
       "         -4.10909425e-04,  -9.30383036e-03,  -1.60377671e-02,\n",
       "         -0.00000000e+00,  -5.12687597e-03,  -6.72344241e-02,\n",
       "         -2.40890476e-02,  -3.39467747e-02,  -1.37255248e-03,\n",
       "         -4.85704732e-03,  -4.32624133e-03,  -2.77389390e-03,\n",
       "         -8.36623424e-03,   3.89381043e-04,  -3.96407637e-02,\n",
       "         -3.15491997e-04,   7.33060064e-03,  -2.53828291e-02,\n",
       "         -2.76145982e-03,  -1.88190163e-02,  -1.56386217e-03,\n",
       "         -1.11123211e-02,   7.19078034e-04,  -6.58846360e-02,\n",
       "         -2.60088172e-03,  -0.00000000e+00,  -4.03160758e-03,\n",
       "          1.37984374e-02,  -2.40186907e-02,  -1.83212500e-01,\n",
       "         -8.40894137e-05,  -1.86540279e-02,  -1.22543068e-02,\n",
       "         -4.71444798e-02,  -1.04399633e-02,  -3.45337233e-02,\n",
       "         -3.63105928e-03,  -1.94263369e-01,   1.82646468e-02,\n",
       "          1.82646468e-02,   1.93927161e-03,  -1.10729645e-02,\n",
       "         -4.24863333e-04,  -2.69199505e-04,  -1.57465382e-03,\n",
       "         -3.02739800e-02,  -1.37463718e-02,  -2.62191238e-03,\n",
       "          1.97879910e-03,  -1.55853220e-02,   3.24027295e-03,\n",
       "         -2.91686461e-02,   2.49988541e-02,   2.85148580e-01,\n",
       "          4.51655748e-04]])"
      ]
     },
     "execution_count": 15,
     "metadata": {},
     "output_type": "execute_result"
    }
   ],
   "source": [
    "pca.components_"
   ]
  },
  {
   "cell_type": "code",
   "execution_count": 76,
   "metadata": {},
   "outputs": [
    {
     "data": {
      "text/plain": [
       "array([ -7.25570818e-05,  -8.32785908e-05,   1.65941567e-04,\n",
       "         2.20091844e-05,  -3.21150784e-05,   0.00000000e+00,\n",
       "         1.86171782e-04,   1.22453342e-04,  -9.65573904e-05,\n",
       "         1.83646105e-05,  -2.52997423e-05,   7.93160917e-01,\n",
       "         6.08994801e-01,   0.00000000e+00,   9.70817672e-07,\n",
       "        -1.78737840e-05,   1.31056861e-03,   3.97746446e-03,\n",
       "         1.27725384e-03,  -1.96705950e-04,   1.77344561e-05,\n",
       "        -1.58193968e-05,   1.43141172e-05,   1.97933412e-04,\n",
       "        -1.74566382e-05,  -3.44532993e-04,   6.65854849e-05,\n",
       "        -3.04185657e-05,  -1.03900709e-04,  -7.46868916e-05,\n",
       "        -4.43760190e-05,  -2.15185867e-05,  -1.57944908e-05,\n",
       "         2.15134765e-05,  -3.83059456e-05,  -1.08465525e-04,\n",
       "        -4.64066468e-06,   1.32862370e-04,  -4.05856101e-05,\n",
       "        -1.62822577e-05,   7.58708709e-06,  -6.46423494e-05,\n",
       "         9.28555031e-06,   2.75201675e-06,   4.78169499e-05,\n",
       "        -2.07073407e-06,  -1.28178559e-05,  -3.75260883e-05,\n",
       "         2.28796012e-05,   3.76684126e-05,  -2.14320954e-05,\n",
       "         3.56747786e-05,   2.40524942e-05,   1.03284359e-04,\n",
       "        -2.73748196e-06,   2.98976271e-05,  -5.66239805e-05,\n",
       "        -2.67179973e-06,   1.16144800e-05,  -1.58820745e-04,\n",
       "        -9.92455039e-06,  -1.37809492e-04,   3.32884630e-05,\n",
       "         7.25160150e-05,  -3.57898990e-05,  -3.50303042e-05,\n",
       "         4.11533303e-05,   5.44391209e-05,   4.73783023e-05,\n",
       "        -1.07402331e-04,   9.92844023e-05,  -3.25041142e-05,\n",
       "         1.12571769e-04,  -1.80517466e-05,  -6.99159216e-06,\n",
       "         4.85310764e-05,  -2.30260741e-05,   1.46612913e-05,\n",
       "         0.00000000e+00,  -4.72933109e-06,  -4.66193218e-05,\n",
       "        -3.85520088e-05,  -4.28567789e-05,   3.88127203e-06,\n",
       "        -8.12166999e-06,  -2.33777636e-05,  -5.82547343e-06,\n",
       "         7.21206510e-06,   8.68783589e-06,  -2.68673112e-05,\n",
       "         2.60780661e-06,   6.25786607e-05,  -1.25940734e-04,\n",
       "         2.53082786e-05,  -4.38833588e-05,  -2.18856967e-05,\n",
       "         9.08258831e-05,   3.85339848e-05,   2.98976271e-05,\n",
       "        -2.54171684e-05,   0.00000000e+00,  -2.31326113e-05,\n",
       "         1.42926156e-05,  -1.79107705e-04,  -2.26667291e-04,\n",
       "        -5.93811939e-06,  -5.81014694e-05,   8.29589583e-05,\n",
       "         1.89241837e-05,   4.40753339e-05,   7.76533383e-05,\n",
       "        -3.85801283e-06,  -6.65007077e-05,   4.94136335e-05,\n",
       "         4.94136335e-05,  -2.55268310e-06,   2.08119754e-05,\n",
       "         7.74144425e-06,  -1.69854725e-07,   1.16543734e-04,\n",
       "        -3.27461003e-05,   1.00629620e-04,   2.16806159e-05,\n",
       "        -9.66423355e-05,  -6.21960046e-05,  -1.82100701e-04,\n",
       "        -1.36700884e-04,   1.09214022e-03,  -5.62872033e-05,\n",
       "         1.48894194e-06])"
      ]
     },
     "execution_count": 76,
     "metadata": {},
     "output_type": "execute_result"
    }
   ],
   "source": [
    "pca.components_[0]"
   ]
  },
  {
   "cell_type": "code",
   "execution_count": 68,
   "metadata": {
    "scrolled": true
   },
   "outputs": [
    {
     "data": {
      "text/plain": [
       "4"
      ]
     },
     "execution_count": 68,
     "metadata": {},
     "output_type": "execute_result"
    }
   ],
   "source": [
    "len(pca.explained_variance_ratio_[pca.explained_variance_ratio_>(10e-5a)])"
   ]
  },
  {
   "cell_type": "markdown",
   "metadata": {},
   "source": [
    "## Plots and images"
   ]
  },
  {
   "cell_type": "code",
   "execution_count": 175,
   "metadata": {
    "collapsed": true
   },
   "outputs": [],
   "source": [
    "df_base = df"
   ]
  },
  {
   "cell_type": "code",
   "execution_count": 83,
   "metadata": {},
   "outputs": [
    {
     "data": {
      "text/plain": [
       "<matplotlib.axes._subplots.AxesSubplot at 0x19a54f51a90>"
      ]
     },
     "execution_count": 83,
     "metadata": {},
     "output_type": "execute_result"
    },
    {
     "data": {
      "image/png": "[encoded data removed]",
      "text/plain": [
       "<matplotlib.figure.Figure at 0x19a54b57940>"
      ]
     },
     "metadata": {},
     "output_type": "display_data"
    }
   ],
   "source": [
    "df_long.boxplot(column='var_scenic_index', by='sum_tags_food')"
   ]
  },
  {
   "cell_type": "code",
   "execution_count": 176,
   "metadata": {
    "scrolled": true
   },
   "outputs": [
    {
     "data": {
      "text/plain": [
       "<matplotlib.text.Text at 0x1cf84e98128>"
      ]
     },
     "execution_count": 176,
     "metadata": {},
     "output_type": "execute_result"
    },
    {
     "data": {
      "image/png": "[encoded data removed]",
      "text/plain": [
       "<matplotlib.figure.Figure at 0x1cf855f34a8>"
      ]
     },
     "metadata": {},
     "output_type": "display_data"
    },
    {
     "data": {
      "image/png": "[encoded data removed]",
      "text/plain": [
       "<matplotlib.figure.Figure at 0x1cf84524f98>"
      ]
     },
     "metadata": {},
     "output_type": "display_data"
    },
    {
     "data": {
      "image/png": "[encoded data removed]",
      "text/plain": [
       "<matplotlib.figure.Figure at 0x1cf84683e10>"
      ]
     },
     "metadata": {},
     "output_type": "display_data"
    },
    {
     "data": {
      "image/png": "[encoded data removed]",
      "text/plain": [
       "<matplotlib.figure.Figure at 0x1cf870bfdd8>"
      ]
     },
     "metadata": {},
     "output_type": "display_data"
    },
    {
     "data": {
      "image/png": "[encoded data removed]",
      "text/plain": [
       "<matplotlib.figure.Figure at 0x1cf870bfe48>"
      ]
     },
     "metadata": {},
     "output_type": "display_data"
    },
    {
     "data": {
      "image/png": "[encoded data removed]",
      "text/plain": [
       "<matplotlib.figure.Figure at 0x1cf846d0ef0>"
      ]
     },
     "metadata": {},
     "output_type": "display_data"
    },
    {
     "data": {
      "image/png": "[encoded data removed]",
      "text/plain": [
       "<matplotlib.figure.Figure at 0x1cf86b7a8d0>"
      ]
     },
     "metadata": {},
     "output_type": "display_data"
    },
    {
     "data": {
      "image/png": "[encoded data removed]",
      "text/plain": [
       "<matplotlib.figure.Figure at 0x1cf859e6e80>"
      ]
     },
     "metadata": {},
     "output_type": "display_data"
    },
    {
     "data": {
      "image/png": "[encoded data removed]",
      "text/plain": [
       "<matplotlib.figure.Figure at 0x1cf85a13fd0>"
      ]
     },
     "metadata": {},
     "output_type": "display_data"
    },
    {
     "data": {
      "image/png": "[encoded data removed]",
      "text/plain": [
       "<matplotlib.figure.Figure at 0x1cf85a1a400>"
      ]
     },
     "metadata": {},
     "output_type": "display_data"
    },
    {
     "data": {
      "image/png": "[encoded data removed]",
      "text/plain": [
       "<matplotlib.figure.Figure at 0x1cf852d2080>"
      ]
     },
     "metadata": {},
     "output_type": "display_data"
    }
   ],
   "source": [
    "%matplotlib inline\n",
    "df_base['sum_tags_point_of_interest'] = df_base.sum_tags_point_of_interest.astype('float')\n",
    "df_base['var_num_places'] = df_base.var_num_places.astype('float')\n",
    "df_base['avg_num_places'] = df_base.var_num_places.astype('float')\n",
    "\n",
    "df_base.boxplot(column ='avg_num_places', by= 'sum_tags_point_of_interest')\n",
    "plt.suptitle('')\n",
    "df_base.boxplot(column ='var_num_places', by= 'sum_tags_point_of_interest')\n",
    "plt.suptitle('')\n",
    "\n",
    "df_base.boxplot(column ='avg_scenic_index', by= 'sum_tags_point_of_interest')\n",
    "plt.suptitle('')\n",
    "\n",
    "df_base.boxplot(column ='var_scenic_index', by= 'sum_tags_point_of_interest')\n",
    "plt.suptitle('')\n",
    "\n",
    "df_base.plot(y ='var_scenic_index', x= 'avg_scenic_index',style  = 'o')\n",
    "plt.suptitle('')\n",
    "\n",
    "df_base.plot(y ='var_num_places', x= 'var_scenic_index',style  = 'o')\n",
    "plt.suptitle('')\n",
    "\n",
    "df_base.plot(y ='avg_scenic_index', x= 'avg_num_places',style  = 'o')\n",
    "plt.suptitle('')\n",
    "\n",
    "df_base.plot(y ='avg_scenic_index', x= 'var_num_places',style  = 'o')\n",
    "plt.suptitle('')\n",
    "\n",
    "df_base.boxplot(column ='avg_scenic_index', by= 'action')\n",
    "plt.suptitle('')\n",
    "\n",
    "df_base.boxplot(column ='var_scenic_index', by= 'action')\n",
    "plt.suptitle('')\n",
    "\n",
    "\n",
    "df_base.boxplot(column ='var_scenic_index', by= 'action')\n",
    "plt.suptitle('')\n",
    "\n",
    "\n"
   ]
  },
  {
   "cell_type": "code",
   "execution_count": null,
   "metadata": {
    "collapsed": true,
    "scrolled": true
   },
   "outputs": [],
   "source": [
    "df_base.sum_tags_florist = df_base.sum_tags_florist.astype('float')\n",
    "df_base.sum_tags_florist.hist()"
   ]
  },
  {
   "cell_type": "code",
   "execution_count": null,
   "metadata": {
    "collapsed": true
   },
   "outputs": [],
   "source": [
    "%matplotlib inline\n",
    "df_base.boxplot(column = 'var_scenic_index', by=['purpose_education'])\n",
    "df_base.boxplot(column = 'avg_scenic_index', by=['purpose_education'])\n",
    "df_base.boxplot(column = 'avg_scenic_index', by=['purpose_leisure'])\n",
    "df_base.boxplot(column = 'var_scenic_index', by=['purpose_leisure'])\n",
    "df_base.boxplot(column = 'var_scenic_index', by=['purpose_leisure'])\n",
    "df_base.boxplot(column = 'var_scenic_index', by='purpose_other')\n",
    "df_base.boxplot(column = 'avg_scenic_index', by='purpose_other')\n",
    "df_base.boxplot(column = 'var_scenic_index', by='purpose_health')\n",
    "df_base.boxplot(column = 'avg_scenic_index', by='purpose_health')\n",
    "\n",
    "df_base.boxplot(column = 'var_scenic_index', by='purpose_meal_snack_coffee')\n",
    "df_base.boxplot(column = 'avg_scenic_index', by='purpose_meal_snack_coffee')\n",
    "\n",
    "\n",
    "\n"
   ]
  },
  {
   "cell_type": "code",
   "execution_count": null,
   "metadata": {
    "collapsed": true,
    "scrolled": false
   },
   "outputs": [],
   "source": [
    "%matplotlib inline\n",
    "df_base[df_base['action']==1].boxplot(column = 'var_scenic_index', by=['purpose_education'])\n",
    "plt.suptitle('')\n",
    "\n",
    "df_base[df_base['action']==1].boxplot(column = 'avg_scenic_index', by=['purpose_education'])\n",
    "plt.suptitle('')\n",
    "\n",
    "df_base[df_base['action']==1].boxplot(column = 'avg_scenic_index', by=['purpose_leisure'])\n",
    "plt.suptitle('')\n",
    "\n",
    "df_base[df_base['action']==1].boxplot(column = 'var_scenic_index', by=['purpose_leisure'])\n",
    "plt.suptitle('')\n",
    "\n",
    "df_base[df_base['action']==1].boxplot(column = 'var_scenic_index', by=['purpose_leisure'])\n",
    "plt.suptitle('')\n",
    "\n",
    "df_base[df_base['action']==1].boxplot(column = 'var_scenic_index', by='purpose_other')\n",
    "plt.suptitle('')\n",
    "\n",
    "df_base[df_base['action']==1].boxplot(column = 'avg_scenic_index', by='purpose_other')\n",
    "plt.suptitle('')\n",
    "\n",
    "df_base[df_base['action']==1].boxplot(column = 'var_scenic_index', by='purpose_health')\n",
    "plt.suptitle('')\n",
    "\n",
    "df_base[df_base['action']==1].boxplot(column = 'avg_scenic_index', by='purpose_health')\n",
    "plt.suptitle('')\n",
    "\n",
    "df_base[df_base['action']==1].boxplot(column = 'var_scenic_index', by='purpose_meal_snack_coffee')\n",
    "plt.suptitle('')\n",
    "\n",
    "df_base[df_base['action']==1].boxplot(column = 'avg_scenic_index', by='purpose_meal_snack_coffee')\n",
    "plt.suptitle('')\n"
   ]
  },
  {
   "cell_type": "code",
   "execution_count": null,
   "metadata": {
    "collapsed": true
   },
   "outputs": [],
   "source": [
    "df_purpose = pd.read_sql('select * from processed_10_2_2018',conn)\n",
    "\n",
    "for trip_index in df_purpose.trip_index.unique():\n",
    "    df_sub = df_purpose[df_purpose.trip_index == trip_index]\n",
    "    i = df_sub[df_sub.overlap_percentage == df_sub.overlap_percentage.max()].index\n",
    "    df_purpose.loc[i,'action'] = 1\n",
    "df_purpose.fillna(value = 0, inplace=True)"
   ]
  },
  {
   "cell_type": "code",
   "execution_count": null,
   "metadata": {
    "collapsed": true
   },
   "outputs": [],
   "source": [
    "%matplotlib inline\n",
    "df_base.boxplot(by = 'action',column ='numpoints')"
   ]
  },
  {
   "cell_type": "code",
   "execution_count": null,
   "metadata": {
    "collapsed": true
   },
   "outputs": [],
   "source": [
    "%matplotlib inline\n",
    "df_base.boxplot(by = 'action',column ='numpoints')\n",
    "plt.suptitle('')\n"
   ]
  },
  {
   "cell_type": "code",
   "execution_count": null,
   "metadata": {
    "collapsed": true
   },
   "outputs": [],
   "source": [
    "%matplotlib inline\n",
    "df_purpose.var_scenic_index.astype('float', inplace = True)\n",
    "df_purpose[df_purpose['action']==1].boxplot(column = 'var_scenic_index', by='purpose')\n",
    "df_purpose[df_purpose['action']==0].boxplot(column = 'var_scenic_index', by='purpose')\n",
    "\n",
    "df_purpose[df_purpose['action']==1].boxplot(column = 'avg_scenic_index', by='purpose')\n",
    "df_purpose[df_purpose['action']==0].boxplot(column = 'avg_scenic_index', by='purpose')\n",
    "\n"
   ]
  },
  {
   "cell_type": "code",
   "execution_count": null,
   "metadata": {
    "collapsed": true
   },
   "outputs": [],
   "source": [
    "%matplotlib inline\n",
    "df_base.plot(x= 'avg_rating_avg',y ='avg_scenic_index',style = 'o')\n",
    "df_base.plot(x= 'var_rating_average',y ='avg_scenic_index',style = 'o')\n",
    "df_base.plot(x= 'avg_rating_avg',y ='var_scenic_index',style = 'o')\n",
    "df_base.plot(x= 'var_rating_average',y ='var_scenic_index',style = 'o')\n"
   ]
  },
  {
   "cell_type": "code",
   "execution_count": null,
   "metadata": {
    "collapsed": true
   },
   "outputs": [],
   "source": [
    "%matplotlib inline\n",
    "df_base.boxplot(column='var_rating_average',by = 'sum_tags_point_of_interest')\n",
    "df_base.boxplot(column='avg_rating_avg',by = 'sum_tags_point_of_interest')"
   ]
  },
  {
   "cell_type": "code",
   "execution_count": null,
   "metadata": {
    "collapsed": true
   },
   "outputs": [],
   "source": [
    "%matplotlib inline\n",
    "df_base.plot(x='var_rating_average',y = 'avg_scenic_index',style = 'o')\n",
    "df_base.plot(x='avg_rating_avg',y = 'avg_scenic_index', style = 'o')\n",
    "df_base.plot(x='var_rating_average',y = 'var_scenic_index',style = 'o')\n",
    "df_base.plot(x='var_rating_average',y = 'var_scenic_index',style = 'o')\n",
    "\n"
   ]
  },
  {
   "cell_type": "code",
   "execution_count": null,
   "metadata": {
    "collapsed": true
   },
   "outputs": [],
   "source": [
    "%matplotlib inline\n",
    "df_base.avg_scenic_index[df_base.purpose_education ==0].hist()\n"
   ]
  },
  {
   "cell_type": "code",
   "execution_count": null,
   "metadata": {
    "collapsed": true
   },
   "outputs": [],
   "source": [
    "df_base.purpose_leisure[ df_base.purpose_leisure > 0 ].count()\n"
   ]
  },
  {
   "cell_type": "code",
   "execution_count": null,
   "metadata": {
    "collapsed": true
   },
   "outputs": [],
   "source": [
    "df_base.purpose_meal_snack_coffee[ df_base.purpose_meal_snack_coffee > 0 ].count()"
   ]
  },
  {
   "cell_type": "code",
   "execution_count": null,
   "metadata": {
    "collapsed": true
   },
   "outputs": [],
   "source": [
    "df_base.purpose_other[ df_base.purpose_other > 0 ].count()"
   ]
  },
  {
   "cell_type": "code",
   "execution_count": null,
   "metadata": {
    "collapsed": true
   },
   "outputs": [],
   "source": [
    "df_base.boxplot(column = 'numpoints',by = 'action')\n",
    "plt.title('pedestrian lights - route choice')\n",
    "plt.suptitle(\"\")"
   ]
  },
  {
   "cell_type": "code",
   "execution_count": null,
   "metadata": {
    "collapsed": true
   },
   "outputs": [],
   "source": [
    "df_base.boxplot(column = 'number_of_turns',by = 'action')\n"
   ]
  },
  {
   "cell_type": "code",
   "execution_count": null,
   "metadata": {
    "collapsed": true
   },
   "outputs": [],
   "source": [
    "df_base.head()"
   ]
  },
  {
   "cell_type": "code",
   "execution_count": null,
   "metadata": {
    "collapsed": true
   },
   "outputs": [],
   "source": [
    "df_base.loc[(df_base['most_beautiful_alternative']==1) & (df_base['action']==1) & (df_base['shortest_path'] == 0)]"
   ]
  },
  {
   "cell_type": "code",
   "execution_count": null,
   "metadata": {
    "collapsed": true
   },
   "outputs": [],
   "source": [
    "df_base.loc[(df_base['most_beautiful_alternative']==1) & (df_base['action']==1) &  (df_base['shortest_path']==1)]"
   ]
  },
  {
   "cell_type": "code",
   "execution_count": null,
   "metadata": {
    "collapsed": true
   },
   "outputs": [],
   "source": [
    "df_base.loc[(df_base['most_beautiful_alternative']==0) & (df_base['action']==1) &  (df_base['shortest_path']==1)]"
   ]
  },
  {
   "cell_type": "code",
   "execution_count": null,
   "metadata": {
    "collapsed": true,
    "scrolled": true
   },
   "outputs": [],
   "source": [
    "df_base.loc[(df_base['most_beautiful_alternative']==0) & (df_base['action']==1) &  (df_base['shortest_path']==0)]"
   ]
  },
  {
   "cell_type": "code",
   "execution_count": null,
   "metadata": {
    "collapsed": true
   },
   "outputs": [],
   "source": [
    "df_base.loc[(df_base['most_beautiful_alternative']==0) & (df_base['action']==1) &  (df_base['shortest_path']==0)]"
   ]
  },
  {
   "cell_type": "code",
   "execution_count": null,
   "metadata": {
    "collapsed": true
   },
   "outputs": [],
   "source": [
    "df_base.loc[(df_base['most_beautiful_alternative']==1) & (df_base['action']==1) &  (df_base['shortest_path']==1) & (df_base['purpose_education']==1)]"
   ]
  },
  {
   "cell_type": "code",
   "execution_count": null,
   "metadata": {
    "collapsed": true
   },
   "outputs": [],
   "source": [
    "df_base.loc[df_base.trip_index[df_base['alternative_no'] == 2]]\n",
    "# df_to_sql('processed_three_alternative',df_base.loc[df_base.trip_index[df_base['alternative_no'] == 2]])"
   ]
  },
  {
   "cell_type": "markdown",
   "metadata": {
    "collapsed": true
   },
   "source": [
    "## Extras"
   ]
  },
  {
   "cell_type": "markdown",
   "metadata": {
    "collapsed": true
   },
   "source": [
    "### Plotting informations"
   ]
  },
  {
   "cell_type": "code",
   "execution_count": 75,
   "metadata": {
    "collapsed": true
   },
   "outputs": [],
   "source": [
    "l = ['age_16_24', 'age_25_34', 'age_35_44', 'age_45_54', 'age_55_64','age_65']\n"
   ]
  },
  {
   "cell_type": "code",
   "execution_count": 86,
   "metadata": {
    "scrolled": true
   },
   "outputs": [
    {
     "data": {
      "text/plain": [
       "purpose_education             87.0\n",
       "purpose_health                 6.0\n",
       "purpose_leisure               21.0\n",
       "purpose_meal_snack_coffee     13.0\n",
       "purpose_other                110.0\n",
       "purpose_pick_up                3.0\n",
       "dtype: float64"
      ]
     },
     "execution_count": 86,
     "metadata": {},
     "output_type": "execute_result"
    }
   ],
   "source": [
    "df.filter(like = 'purpose_').sum()/3"
   ]
  },
  {
   "cell_type": "code",
   "execution_count": 83,
   "metadata": {},
   "outputs": [
    {
     "data": {
      "text/plain": [
       "age_16_24    47.0\n",
       "age_25_34    74.0\n",
       "age_35_44    53.0\n",
       "age_45_54    53.0\n",
       "age_55_64    13.0\n",
       "age_65        0.0\n",
       "dtype: float64"
      ]
     },
     "execution_count": 83,
     "metadata": {},
     "output_type": "execute_result"
    }
   ],
   "source": [
    "df[l].sum()/3"
   ]
  },
  {
   "cell_type": "code",
   "execution_count": 107,
   "metadata": {},
   "outputs": [
    {
     "ename": "ModuleNotFoundError",
     "evalue": "No module named 'PySide'",
     "traceback": [
      "\u001b[1;31m---------------------------------------------------------------------------\u001b[0m",
      "\u001b[1;31mModuleNotFoundError\u001b[0m                       Traceback (most recent call last)",
      "\u001b[1;32m<ipython-input-107-cdacd3b6439f>\u001b[0m in \u001b[0;36m<module>\u001b[1;34m()\u001b[0m\n\u001b[0;32m      1\u001b[0m \u001b[1;32mimport\u001b[0m \u001b[0mio\u001b[0m\u001b[1;33m\u001b[0m\u001b[0m\n\u001b[0;32m      2\u001b[0m \u001b[1;32mimport\u001b[0m \u001b[0mmatplotlib\u001b[0m\u001b[1;33m.\u001b[0m\u001b[0mpyplot\u001b[0m \u001b[1;32mas\u001b[0m \u001b[0mplt\u001b[0m\u001b[1;33m\u001b[0m\u001b[0m\n\u001b[1;32m----> 3\u001b[1;33m \u001b[1;32mfrom\u001b[0m \u001b[0mPySide\u001b[0m\u001b[1;33m.\u001b[0m\u001b[0mQtGui\u001b[0m \u001b[1;32mimport\u001b[0m \u001b[0mQApplication\u001b[0m\u001b[1;33m,\u001b[0m \u001b[0mQImage\u001b[0m\u001b[1;33m\u001b[0m\u001b[0m\n\u001b[0m\u001b[0;32m      4\u001b[0m \u001b[1;33m\u001b[0m\u001b[0m\n\u001b[0;32m      5\u001b[0m \u001b[1;32mdef\u001b[0m \u001b[0madd_clipboard_to_figures\u001b[0m\u001b[1;33m(\u001b[0m\u001b[1;33m)\u001b[0m\u001b[1;33m:\u001b[0m\u001b[1;33m\u001b[0m\u001b[0m\n",
      "\u001b[1;31mModuleNotFoundError\u001b[0m: No module named 'PySide'"
     ],
     "output_type": "error"
    }
   ],
   "source": [
    "import io\n",
    "import matplotlib.pyplot as plt\n",
    "from PySide.QtGui import QApplication, QImage\n",
    "\n",
    "def add_clipboard_to_figures():\n",
    "    # use monkey-patching to replace the original plt.figure() function with\n",
    "    # our own, which supports clipboard-copying\n",
    "    oldfig = plt.figure\n",
    "\n",
    "    def newfig(*args, **kwargs):\n",
    "        fig = oldfig(*args, **kwargs)\n",
    "        def clipboard_handler(event):\n",
    "            if event.key == 'ctrl+c':\n",
    "                # store the image in a buffer using savefig(), this has the\n",
    "                # advantage of applying all the default savefig parameters\n",
    "                # such as background color; those would be ignored if you simply\n",
    "                # grab the canvas using Qt\n",
    "                buf = io.BytesIO()\n",
    "                fig.savefig(buf)\n",
    "                QApplication.clipboard().setImage(QImage.fromData(buf.getvalue()))\n",
    "                buf.close()\n",
    "\n",
    "        fig.canvas.mpl_connect('key_press_event', clipboard_handler)\n",
    "        return fig\n",
    "\n",
    "    plt.figure = newfig\n",
    "\n",
    "add_clipboard_to_figures()"
   ]
  },
  {
   "cell_type": "code",
   "execution_count": 119,
   "metadata": {},
   "outputs": [
    {
     "data": {
      "image/png": "[encoded data removed]",
      "text/plain": [
       "<matplotlib.figure.Figure at 0x12c85669438>"
      ]
     },
     "metadata": {},
     "output_type": "display_data"
    }
   ],
   "source": [
    "df_long.groupby(by = 'uuid').sum().action.hist(bins = 15)\n",
    "plt.xlabel('Number of trips per user')\n",
    "plt.ylabel('Frequency')\n",
    "plt.xticks([i for i in range(15)])\n",
    "\n",
    "plt.savefig('Frequency of trips recorded per unique user')"
   ]
  }
 ],
 "metadata": {
  "kernelspec": {
   "display_name": "Python 3",
   "language": "python",
   "name": "python3"
  },
  "language_info": {
   "codemirror_mode": {
    "name": "ipython",
    "version": 3
   },
   "file_extension": ".py",
   "mimetype": "text/x-python",
   "name": "python",
   "nbconvert_exporter": "python",
   "pygments_lexer": "ipython3",
   "version": "3.7.1"
  }
 },
 "nbformat": 4,
 "nbformat_minor": 2
}
